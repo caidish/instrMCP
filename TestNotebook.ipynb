{
 "cells": [
  {
   "cell_type": "code",
   "execution_count": 7,
   "id": "d184e5f4-507d-4947-b795-a75a3ae18c25",
   "metadata": {
    "scrolled": true
   },
   "outputs": [],
   "source": [
    "import qcodes as qc\n",
    "station = qc.Station(config_file='config/station.yaml')"
   ]
  },
  {
   "cell_type": "code",
   "execution_count": 8,
   "id": "8a44d3e9-223c-46bc-8ec2-e52475dc87a3",
   "metadata": {
    "scrolled": true
   },
   "outputs": [],
   "source": [
    "dac1 = station.load_mock_dac1\n",
    "dac2 = station.load_mock_dac2"
   ]
  },
  {
   "cell_type": "code",
   "execution_count": 3,
   "id": "5d9183db-f92d-4b8e-9b86-053b66f8fde1",
   "metadata": {},
   "outputs": [
    {
     "name": "stdout",
     "output_type": "stream",
     "text": [
      "✅ QCoDeS MCP extension loaded\n",
      "🛡️  Default mode: safe\n",
      "📋 Use %mcp_status to check server status\n",
      "⚠️  Use %mcp_unsafe to switch to unsafe mode (if needed)\n",
      "🚀 Use %mcp_start to start the server\n"
     ]
    }
   ],
   "source": [
    "%load_ext instrmcp.extensions"
   ]
  },
  {
   "cell_type": "code",
   "execution_count": 4,
   "id": "c4dd8645-506c-4560-a850-b4f864da1620",
   "metadata": {},
   "outputs": [
    {
     "name": "stdout",
     "output_type": "stream",
     "text": [
      "🛡️ MCP Server Status:\n",
      "   Desired Mode: safe\n",
      "   Server Instance: ❌ Not created yet\n",
      "   Available: %mcp_start\n"
     ]
    }
   ],
   "source": [
    "%mcp_status"
   ]
  },
  {
   "cell_type": "code",
   "execution_count": 5,
   "id": "c5d5e22e-f7a0-481e-aa3d-617c10a43cdd",
   "metadata": {},
   "outputs": [
    {
     "name": "stdout",
     "output_type": "stream",
     "text": [
      "⚠️  Mode set to unsafe\n",
      "⚠️  UNSAFE MODE: execute_editing_cell tool will be available\n",
      "✅ Mode will take effect when server starts\n"
     ]
    }
   ],
   "source": [
    "%mcp_unsafe"
   ]
  },
  {
   "cell_type": "code",
   "execution_count": null,
   "id": "95dde381-dd66-4475-9a7a-aaeb9f1aa7b4",
   "metadata": {
    "scrolled": true
   },
   "outputs": [
    {
     "name": "stdout",
     "output_type": "stream",
     "text": [
      "🚀 Starting MCP server...\n",
      "🚀 QCoDeS MCP Server running on http://127.0.0.1:8123\n",
      "🔑 Access token: Igxoj-92QRKEr5p-2YTouu1MwBBOT3iW2fT0ox9iScY\n"
     ]
    },
    {
     "data": {
      "text/html": [
       "<pre style=\"white-space:pre;overflow-x:auto;line-height:normal;font-family:Menlo,'DejaVu Sans Mono',consolas,'Courier New',monospace\"><span style=\"color: #7fbfbf; text-decoration-color: #7fbfbf\">[09/09/25 13:12:13] </span><span style=\"color: #000080; text-decoration-color: #000080\">INFO    </span> Starting MCP server <span style=\"color: #008000; text-decoration-color: #008000\">'Jupyter QCoDeS MCP Server (Unsafe Mode)'</span> with      <a href=\"file:///Users/caijiaqi/miniforge3/envs/instrMCPdev/lib/python3.11/site-packages/fastmcp/server/server.py\" target=\"_blank\"><span style=\"color: #7f7f7f; text-decoration-color: #7f7f7f\">server.py</span></a><span style=\"color: #7f7f7f; text-decoration-color: #7f7f7f\">:</span><a href=\"file:///Users/caijiaqi/miniforge3/envs/instrMCPdev/lib/python3.11/site-packages/fastmcp/server/server.py#1570\" target=\"_blank\"><span style=\"color: #7f7f7f; text-decoration-color: #7f7f7f\">1570</span></a>\n",
       "<span style=\"color: #7fbfbf; text-decoration-color: #7fbfbf\">                    </span>         transport <span style=\"color: #008000; text-decoration-color: #008000\">'http'</span> on <span style=\"color: #0000ff; text-decoration-color: #0000ff; text-decoration: underline\">http://127.0.0.1:8123/mcp</span>                           <span style=\"color: #7f7f7f; text-decoration-color: #7f7f7f\">              </span>\n",
       "</pre>\n"
      ],
      "text/plain": [
       "\u001b[2;36m[09/09/25 13:12:13]\u001b[0m\u001b[2;36m \u001b[0m\u001b[34mINFO    \u001b[0m Starting MCP server \u001b[32m'Jupyter QCoDeS MCP Server \u001b[0m\u001b[32m(\u001b[0m\u001b[32mUnsafe Mode\u001b[0m\u001b[32m)\u001b[0m\u001b[32m'\u001b[0m with      \u001b]8;id=413169;file:///Users/caijiaqi/miniforge3/envs/instrMCPdev/lib/python3.11/site-packages/fastmcp/server/server.py\u001b\\\u001b[2mserver.py\u001b[0m\u001b]8;;\u001b\\\u001b[2m:\u001b[0m\u001b]8;id=989204;file:///Users/caijiaqi/miniforge3/envs/instrMCPdev/lib/python3.11/site-packages/fastmcp/server/server.py#1570\u001b\\\u001b[2m1570\u001b[0m\u001b]8;;\u001b\\\n",
       "\u001b[2;36m                    \u001b[0m         transport \u001b[32m'http'\u001b[0m on \u001b[4;94mhttp://127.0.0.1:8123/mcp\u001b[0m                           \u001b[2m              \u001b[0m\n"
      ]
     },
     "metadata": {},
     "output_type": "display_data"
    },
    {
     "name": "stderr",
     "output_type": "stream",
     "text": [
      "2025-09-09 13:12:13,897 ¦ py.warnings ¦ WARNING ¦ warnings ¦ _showwarnmsg ¦ 110 ¦ /Users/caijiaqi/miniforge3/envs/instrMCPdev/lib/python3.11/site-packages/websockets/legacy/__init__.py:6: DeprecationWarning: websockets.legacy is deprecated; see https://websockets.readthedocs.io/en/stable/howto/upgrade.html for upgrade instructions\n",
      "  warnings.warn(  # deprecated in 14.0 - 2024-11-09\n",
      "\n",
      "2025-09-09 13:12:13,903 ¦ py.warnings ¦ WARNING ¦ warnings ¦ _showwarnmsg ¦ 110 ¦ /Users/caijiaqi/miniforge3/envs/instrMCPdev/lib/python3.11/site-packages/uvicorn/protocols/websockets/websockets_impl.py:17: DeprecationWarning: websockets.server.WebSocketServerProtocol is deprecated\n",
      "  from websockets.server import WebSocketServerProtocol\n",
      "\n",
      "INFO:     Started server process [89696]\n",
      "INFO:     Waiting for application startup.\n",
      "INFO:     Application startup complete.\n",
      "INFO:     Uvicorn running on http://127.0.0.1:8123 (Press CTRL+C to quit)\n"
     ]
    },
    {
     "name": "stdout",
     "output_type": "stream",
     "text": [
      "✅ MCP server started in ⚠️ unsafe mode\n",
      "⚠️  UNSAFE MODE: execute_editing_cell tool is available\n",
      "INFO:     127.0.0.1:51436 - \"POST /mcp HTTP/1.1\" 200 OK\n",
      "INFO:     127.0.0.1:51436 - \"POST /mcp HTTP/1.1\" 202 Accepted\n",
      "INFO:     127.0.0.1:51438 - \"GET /mcp HTTP/1.1\" 200 OK\n",
      "INFO:     127.0.0.1:51436 - \"POST /mcp HTTP/1.1\" 200 OK\n",
      "INFO:     127.0.0.1:51458 - \"POST /mcp HTTP/1.1\" 200 OK\n",
      "INFO:     127.0.0.1:51458 - \"POST /mcp HTTP/1.1\" 200 OK\n"
     ]
    },
    {
     "name": "stderr",
     "output_type": "stream",
     "text": [
      "2025-09-09 13:13:02,665 ¦ instrmcp.servers.jupyter_qcodes.mcp_server ¦ ERROR ¦ mcp_server ¦ instrument_info ¦ 74 ¦ Error in instrument_info: Instrument '' not found in namespace\n"
     ]
    },
    {
     "name": "stdout",
     "output_type": "stream",
     "text": [
      "INFO:     127.0.0.1:51472 - \"POST /mcp HTTP/1.1\" 200 OK\n",
      "INFO:     127.0.0.1:51490 - \"POST /mcp HTTP/1.1\" 200 OK\n",
      "INFO:     127.0.0.1:51499 - \"POST /mcp HTTP/1.1\" 200 OK\n",
      "INFO:     127.0.0.1:51506 - \"POST /mcp HTTP/1.1\" 200 OK\n",
      "INFO:     127.0.0.1:51525 - \"POST /mcp HTTP/1.1\" 200 OK\n",
      "INFO:     127.0.0.1:53465 - \"POST /mcp HTTP/1.1\" 200 OK\n",
      "INFO:     127.0.0.1:53465 - \"POST /mcp HTTP/1.1\" 202 Accepted\n",
      "INFO:     127.0.0.1:53466 - \"POST /mcp HTTP/1.1\" 200 OK\n",
      "INFO:     127.0.0.1:53465 - \"POST /mcp HTTP/1.1\" 200 OK\n",
      "INFO:     127.0.0.1:53466 - \"POST /mcp HTTP/1.1\" 202 Accepted\n",
      "INFO:     127.0.0.1:53466 - \"POST /mcp HTTP/1.1\" 200 OK\n"
     ]
    }
   ],
   "source": [
    "%mcp_start"
   ]
  }
 ],
 "metadata": {
  "kernelspec": {
   "display_name": "instrMCPdev",
   "language": "python",
   "name": "python3"
  },
  "language_info": {
   "codemirror_mode": {
    "name": "ipython",
    "version": 3
   },
   "file_extension": ".py",
   "mimetype": "text/x-python",
   "name": "python",
   "nbconvert_exporter": "python",
   "pygments_lexer": "ipython3",
   "version": "3.11.13"
  }
 },
 "nbformat": 4,
 "nbformat_minor": 5
}
