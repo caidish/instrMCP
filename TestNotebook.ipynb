{
 "cells": [
  {
   "cell_type": "code",
   "execution_count": 1,
   "id": "d184e5f4-507d-4947-b795-a75a3ae18c25",
   "metadata": {
    "scrolled": true
   },
   "outputs": [
    {
     "name": "stdout",
     "output_type": "stream",
     "text": [
      "Logging hadn't been started.\n",
      "Activating auto-logging. Current session state plus future input saved.\n",
      "Filename       : /Users/caijiaqi/.qcodes/logs/command_history.log\n",
      "Mode           : append\n",
      "Output logging : True\n",
      "Raw input log  : False\n",
      "Timestamping   : True\n",
      "State          : active\n",
      "Qcodes Logfile : /Users/caijiaqi/.qcodes/logs/250909-2752-qcodes.log\n"
     ]
    }
   ],
   "source": [
    "import qcodes as qc\n",
    "station = qc.Station(config_file='config/station.yaml')"
   ]
  },
  {
   "cell_type": "code",
   "execution_count": 8,
   "id": "8a44d3e9-223c-46bc-8ec2-e52475dc87a3",
   "metadata": {
    "scrolled": true
   },
   "outputs": [],
   "source": [
    "dac1 = station.load_mock_dac1()\n",
    "dac2 = station.load_mock_dac2()"
   ]
  },
  {
   "cell_type": "code",
   "execution_count": 3,
   "id": "5d9183db-f92d-4b8e-9b86-053b66f8fde1",
   "metadata": {},
   "outputs": [
    {
     "name": "stdout",
     "output_type": "stream",
     "text": [
      "✅ QCoDeS MCP extension loaded\n",
      "🛡️  Default mode: safe\n",
      "📋 Use %mcp_status to check server status\n",
      "⚠️  Use %mcp_unsafe to switch to unsafe mode (if needed)\n",
      "🚀 Use %mcp_start to start the server\n"
     ]
    }
   ],
   "source": [
    "%load_ext instrmcp.extensions"
   ]
  },
  {
   "cell_type": "code",
   "execution_count": 4,
   "id": "c4dd8645-506c-4560-a850-b4f864da1620",
   "metadata": {},
   "outputs": [
    {
     "name": "stdout",
     "output_type": "stream",
     "text": [
      "🛡️ MCP Server Status:\n",
      "   Desired Mode: safe\n",
      "   Server Instance: ❌ Not created yet\n",
      "   Available: %mcp_start\n"
     ]
    }
   ],
   "source": [
    "%mcp_status"
   ]
  },
  {
   "cell_type": "code",
   "execution_count": 5,
   "id": "c5d5e22e-f7a0-481e-aa3d-617c10a43cdd",
   "metadata": {},
   "outputs": [
    {
     "name": "stdout",
     "output_type": "stream",
     "text": [
      "⚠️  Mode set to unsafe\n",
      "⚠️  UNSAFE MODE: execute_editing_cell tool will be available\n",
      "✅ Mode will take effect when server starts\n"
     ]
    }
   ],
   "source": [
    "%mcp_unsafe"
   ]
  },
  {
   "cell_type": "code",
   "execution_count": 6,
   "id": "95dde381-dd66-4475-9a7a-aaeb9f1aa7b4",
   "metadata": {
    "scrolled": true
   },
   "outputs": [
    {
     "name": "stdout",
     "output_type": "stream",
     "text": [
      "🚀 Starting MCP server...\n",
      "🚀 QCoDeS MCP Server running on http://127.0.0.1:8123\n",
      "🔑 Access token: GLfGbKBCrlr1ub_KDP407KreGscrm0PNS_GVjjbbCys\n"
     ]
    },
    {
     "name": "stderr",
     "output_type": "stream",
     "text": [
      "2025-09-09 15:32:53,509 ¦ py.warnings ¦ WARNING ¦ warnings ¦ _showwarnmsg ¦ 110 ¦ /Users/caijiaqi/miniforge3/envs/instrMCPdev/lib/python3.11/site-packages/websockets/legacy/__init__.py:6: DeprecationWarning: websockets.legacy is deprecated; see https://websockets.readthedocs.io/en/stable/howto/upgrade.html for upgrade instructions\n",
      "  warnings.warn(  # deprecated in 14.0 - 2024-11-09\n",
      "\n",
      "2025-09-09 15:32:53,514 ¦ py.warnings ¦ WARNING ¦ warnings ¦ _showwarnmsg ¦ 110 ¦ /Users/caijiaqi/miniforge3/envs/instrMCPdev/lib/python3.11/site-packages/uvicorn/protocols/websockets/websockets_impl.py:17: DeprecationWarning: websockets.server.WebSocketServerProtocol is deprecated\n",
      "  from websockets.server import WebSocketServerProtocol\n",
      "\n",
      "INFO:     Started server process [2752]\n",
      "INFO:     Waiting for application startup.\n",
      "INFO:     Application startup complete.\n",
      "INFO:     Uvicorn running on http://127.0.0.1:8123 (Press CTRL+C to quit)\n"
     ]
    },
    {
     "name": "stdout",
     "output_type": "stream",
     "text": [
      "✅ MCP server started in ⚠️ unsafe mode\n",
      "⚠️  UNSAFE MODE: execute_editing_cell tool is available\n",
      "INFO:     127.0.0.1:60464 - \"POST /mcp HTTP/1.1\" 200 OK\n",
      "INFO:     127.0.0.1:60464 - \"POST /mcp HTTP/1.1\" 202 Accepted\n",
      "INFO:     127.0.0.1:60463 - \"POST /mcp HTTP/1.1\" 200 OK\n",
      "INFO:     127.0.0.1:60464 - \"POST /mcp HTTP/1.1\" 200 OK\n",
      "INFO:     127.0.0.1:60463 - \"POST /mcp HTTP/1.1\" 202 Accepted\n",
      "INFO:     127.0.0.1:60463 - \"POST /mcp HTTP/1.1\" 200 OK\n",
      "INFO:     127.0.0.1:60478 - \"POST /mcp HTTP/1.1\" 200 OK\n",
      "INFO:     127.0.0.1:60478 - \"POST /mcp HTTP/1.1\" 202 Accepted\n",
      "INFO:     127.0.0.1:60479 - \"POST /mcp HTTP/1.1\" 200 OK\n",
      "INFO:     127.0.0.1:60478 - \"POST /mcp HTTP/1.1\" 200 OK\n",
      "INFO:     127.0.0.1:60479 - \"POST /mcp HTTP/1.1\" 202 Accepted\n",
      "INFO:     127.0.0.1:60479 - \"POST /mcp HTTP/1.1\" 200 OK\n",
      "INFO:     127.0.0.1:60498 - \"POST /mcp HTTP/1.1\" 400 Bad Request\n",
      "INFO:     127.0.0.1:60498 - \"POST /mcp HTTP/1.1\" 200 OK\n",
      "INFO:     127.0.0.1:60498 - \"POST /mcp HTTP/1.1\" 202 Accepted\n",
      "INFO:     127.0.0.1:60498 - \"POST /mcp HTTP/1.1\" 200 OK\n",
      "INFO:     127.0.0.1:60510 - \"DELETE /mcp HTTP/1.1\" 400 Bad Request\n",
      "INFO:     127.0.0.1:60510 - \"DELETE /mcp HTTP/1.1\" 400 Bad Request\n",
      "INFO:     127.0.0.1:60510 - \"POST /mcp HTTP/1.1\" 200 OK\n",
      "INFO:     127.0.0.1:60510 - \"POST /mcp HTTP/1.1\" 202 Accepted\n",
      "INFO:     127.0.0.1:60514 - \"GET /mcp HTTP/1.1\" 200 OK\n",
      "INFO:     127.0.0.1:60510 - \"POST /mcp HTTP/1.1\" 200 OK\n",
      "INFO:     127.0.0.1:60510 - \"POST /mcp HTTP/1.1\" 200 OK\n",
      "INFO:     127.0.0.1:60510 - \"POST /mcp HTTP/1.1\" 200 OK\n"
     ]
    },
    {
     "name": "stderr",
     "output_type": "stream",
     "text": [
      "2025-09-09 15:34:04,456 ¦ instrmcp.servers.jupyter_qcodes.mcp_server ¦ ERROR ¦ mcp_server ¦ instrument_info ¦ 74 ¦ Error in instrument_info: Instrument '' not found in namespace\n"
     ]
    },
    {
     "name": "stdout",
     "output_type": "stream",
     "text": [
      "INFO:     127.0.0.1:60534 - \"POST /mcp HTTP/1.1\" 200 OK\n",
      "INFO:     127.0.0.1:60558 - \"POST /mcp HTTP/1.1\" 200 OK\n",
      "INFO:     127.0.0.1:60568 - \"POST /mcp HTTP/1.1\" 200 OK\n"
     ]
    },
    {
     "name": "stderr",
     "output_type": "stream",
     "text": [
      "2025-09-09 15:34:55,392 ¦ instrmcp.servers.jupyter_qcodes.mcp_server ¦ ERROR ¦ mcp_server ¦ instrument_info ¦ 74 ¦ Error in instrument_info: 'dac1' is not a QCoDeS instrument\n"
     ]
    },
    {
     "name": "stdout",
     "output_type": "stream",
     "text": [
      "INFO:     127.0.0.1:60590 - \"POST /mcp HTTP/1.1\" 200 OK\n",
      "INFO:     127.0.0.1:61977 - \"POST /mcp HTTP/1.1\" 200 OK\n",
      "INFO:     127.0.0.1:61977 - \"POST /mcp HTTP/1.1\" 202 Accepted\n",
      "INFO:     127.0.0.1:61977 - \"POST /mcp HTTP/1.1\" 200 OK\n",
      "INFO:     127.0.0.1:49296 - \"POST /mcp HTTP/1.1\" 200 OK\n",
      "INFO:     127.0.0.1:49296 - \"POST /mcp HTTP/1.1\" 202 Accepted\n",
      "INFO:     127.0.0.1:49296 - \"POST /mcp HTTP/1.1\" 200 OK\n",
      "INFO:     127.0.0.1:50845 - \"POST /mcp HTTP/1.1\" 200 OK\n",
      "INFO:     127.0.0.1:50845 - \"POST /mcp HTTP/1.1\" 202 Accepted\n",
      "INFO:     127.0.0.1:50846 - \"POST /mcp HTTP/1.1\" 200 OK\n",
      "INFO:     127.0.0.1:50845 - \"POST /mcp HTTP/1.1\" 200 OK\n",
      "INFO:     127.0.0.1:50846 - \"POST /mcp HTTP/1.1\" 202 Accepted\n",
      "INFO:     127.0.0.1:50846 - \"POST /mcp HTTP/1.1\" 200 OK\n",
      "INFO:     127.0.0.1:50857 - \"POST /mcp HTTP/1.1\" 200 OK\n",
      "INFO:     127.0.0.1:50857 - \"POST /mcp HTTP/1.1\" 202 Accepted\n",
      "INFO:     127.0.0.1:50857 - \"POST /mcp HTTP/1.1\" 200 OK\n",
      "INFO:     127.0.0.1:50871 - \"POST /mcp HTTP/1.1\" 400 Bad Request\n",
      "INFO:     127.0.0.1:50871 - \"POST /mcp HTTP/1.1\" 200 OK\n",
      "INFO:     127.0.0.1:50871 - \"POST /mcp HTTP/1.1\" 202 Accepted\n",
      "INFO:     127.0.0.1:50871 - \"POST /mcp HTTP/1.1\" 200 OK\n",
      "INFO:     127.0.0.1:50978 - \"POST /mcp HTTP/1.1\" 200 OK\n",
      "INFO:     127.0.0.1:50978 - \"POST /mcp HTTP/1.1\" 202 Accepted\n",
      "INFO:     127.0.0.1:50978 - \"POST /mcp HTTP/1.1\" 200 OK\n",
      "INFO:     127.0.0.1:51027 - \"POST /mcp HTTP/1.1\" 400 Bad Request\n",
      "INFO:     127.0.0.1:51027 - \"POST /mcp HTTP/1.1\" 200 OK\n",
      "INFO:     127.0.0.1:51027 - \"POST /mcp HTTP/1.1\" 202 Accepted\n",
      "INFO:     127.0.0.1:51027 - \"POST /mcp HTTP/1.1\" 200 OK\n",
      "INFO:     127.0.0.1:51081 - \"POST /mcp HTTP/1.1\" 200 OK\n"
     ]
    },
    {
     "name": "stderr",
     "output_type": "stream",
     "text": [
      "2025-09-10 14:21:59,568 ¦ instrmcp.servers.jupyter_qcodes.mcp_server ¦ ERROR ¦ mcp_server ¦ get_parameter_values ¦ 106 ¦ Error in get_parameter_values: Expecting value: line 1 column 1 (char 0)\n"
     ]
    },
    {
     "name": "stdout",
     "output_type": "stream",
     "text": [
      "INFO:     127.0.0.1:52614 - \"POST /mcp HTTP/1.1\" 200 OK\n",
      "INFO:     127.0.0.1:52614 - \"POST /mcp HTTP/1.1\" 202 Accepted\n",
      "INFO:     127.0.0.1:52616 - \"GET /mcp HTTP/1.1\" 200 OK\n"
     ]
    }
   ],
   "source": [
    "%mcp_start"
   ]
  },
  {
   "cell_type": "code",
   "execution_count": null,
   "id": "3b5f0be6-aa68-4e40-b319-4cbf679b8fa3",
   "metadata": {},
   "outputs": [],
   "source": []
  }
 ],
 "metadata": {
  "kernelspec": {
   "display_name": "Python 3 (ipykernel)",
   "language": "python",
   "name": "python3"
  },
  "language_info": {
   "codemirror_mode": {
    "name": "ipython",
    "version": 3
   },
   "file_extension": ".py",
   "mimetype": "text/x-python",
   "name": "python",
   "nbconvert_exporter": "python",
   "pygments_lexer": "ipython3",
   "version": "3.12.11"
  }
 },
 "nbformat": 4,
 "nbformat_minor": 5
}
