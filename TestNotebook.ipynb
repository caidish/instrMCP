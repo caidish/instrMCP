{
 "cells": [
  {
   "cell_type": "code",
   "execution_count": 1,
   "id": "d184e5f4-507d-4947-b795-a75a3ae18c25",
   "metadata": {
    "scrolled": true
   },
   "outputs": [
    {
     "name": "stdout",
     "output_type": "stream",
     "text": [
      "Logging hadn't been started.\n",
      "Activating auto-logging. Current session state plus future input saved.\n",
      "Filename       : /Users/caijiaqi/.qcodes/logs/command_history.log\n",
      "Mode           : append\n",
      "Output logging : True\n",
      "Raw input log  : False\n",
      "Timestamping   : True\n",
      "State          : active\n",
      "Qcodes Logfile : /Users/caijiaqi/.qcodes/logs/251001-9576-qcodes.log\n"
     ]
    }
   ],
   "source": [
    "import qcodes as qc\n",
    "station = qc.Station(config_file='config/station.yaml')"
   ]
  },
  {
   "cell_type": "code",
   "execution_count": 2,
   "id": "8a44d3e9-223c-46bc-8ec2-e52475dc87a3",
   "metadata": {
    "scrolled": true
   },
   "outputs": [],
   "source": [
    "dac1 = station.load_mock_dac1()\n",
    "dac2 = station.load_mock_dac2()"
   ]
  },
  {
   "cell_type": "code",
   "execution_count": 3,
   "id": "5d9183db-f92d-4b8e-9b86-053b66f8fde1",
   "metadata": {},
   "outputs": [
    {
     "name": "stdout",
     "output_type": "stream",
     "text": [
      "✅ QCoDeS MCP extension loaded\n",
      "🛡️  Default mode: safe\n",
      "📋 Use %mcp_status to check server status\n",
      "⚠️  Use %mcp_unsafe to switch to unsafe mode (if needed)\n",
      "🚀 Use %mcp_start to start the server\n"
     ]
    }
   ],
   "source": [
    "%load_ext instrmcp.extensions"
   ]
  },
  {
   "cell_type": "code",
   "execution_count": 4,
   "id": "c4dd8645-506c-4560-a850-b4f864da1620",
   "metadata": {
    "scrolled": true
   },
   "outputs": [
    {
     "name": "stdout",
     "output_type": "stream",
     "text": [
      "🛡️ MCP Server Status:\n",
      "   Desired Mode: safe\n",
      "   Server Instance: ❌ Not created yet\n",
      "   Available: %mcp_start\n"
     ]
    }
   ],
   "source": [
    "%mcp_status"
   ]
  },
  {
   "cell_type": "code",
   "execution_count": 5,
   "id": "6a069a25-0b50-4280-b7f4-7fedcfe9b4f1",
   "metadata": {},
   "outputs": [
    {
     "name": "stdout",
     "output_type": "stream",
     "text": [
      "✅ Added: measureit\n",
      "✅ Added: database\n",
      "✅ Added: auto_correct_json\n",
      "✅ Changes will take effect when server starts\n"
     ]
    }
   ],
   "source": [
    "%mcp_option add measureit database auto_correct_json"
   ]
  },
  {
   "cell_type": "code",
   "execution_count": 6,
   "id": "c5d5e22e-f7a0-481e-aa3d-617c10a43cdd",
   "metadata": {},
   "outputs": [
    {
     "name": "stdout",
     "output_type": "stream",
     "text": [
      "⚠️  Mode set to unsafe\n",
      "⚠️  UNSAFE MODE: execute_editing_cell tool will be available\n",
      "✅ Mode will take effect when server starts\n"
     ]
    }
   ],
   "source": [
    "%mcp_unsafe"
   ]
  },
  {
   "cell_type": "code",
   "execution_count": 7,
   "id": "95dde381-dd66-4475-9a7a-aaeb9f1aa7b4",
   "metadata": {
    "scrolled": true
   },
   "outputs": [
    {
     "name": "stdout",
     "output_type": "stream",
     "text": [
      "🚀 Starting MCP server...\n",
      "🚀 QCoDeS MCP Server running on http://127.0.0.1:8123\n",
      "🔑 Access token: uoGK5xqwOxRrVRFvVOyY_BAciTkDCRDv4UZE4KtUvyw\n"
     ]
    },
    {
     "name": "stderr",
     "output_type": "stream",
     "text": [
      "2025-10-01 18:52:25,717 ¦ py.warnings ¦ WARNING ¦ warnings ¦ _showwarnmsg ¦ 110 ¦ /Users/caijiaqi/miniforge3/envs/instrMCPdev/lib/python3.11/site-packages/websockets/legacy/__init__.py:6: DeprecationWarning: websockets.legacy is deprecated; see https://websockets.readthedocs.io/en/stable/howto/upgrade.html for upgrade instructions\n",
      "  warnings.warn(  # deprecated in 14.0 - 2024-11-09\n",
      "\n",
      "2025-10-01 18:52:25,723 ¦ py.warnings ¦ WARNING ¦ warnings ¦ _showwarnmsg ¦ 110 ¦ /Users/caijiaqi/miniforge3/envs/instrMCPdev/lib/python3.11/site-packages/uvicorn/protocols/websockets/websockets_impl.py:17: DeprecationWarning: websockets.server.WebSocketServerProtocol is deprecated\n",
      "  from websockets.server import WebSocketServerProtocol\n",
      "\n",
      "INFO:     Started server process [9576]\n",
      "INFO:     Waiting for application startup.\n",
      "INFO:     Application startup complete.\n",
      "INFO:     Uvicorn running on http://127.0.0.1:8123 (Press CTRL+C to quit)\n"
     ]
    },
    {
     "name": "stdout",
     "output_type": "stream",
     "text": [
      "✅ MCP server started in ⚠️ unsafe mode\n",
      "⚠️  UNSAFE MODE: execute_editing_cell tool is available\n",
      "INFO:     127.0.0.1:56184 - \"POST /mcp HTTP/1.1\" 400 Bad Request\n",
      "INFO:     127.0.0.1:56184 - \"DELETE /mcp HTTP/1.1\" 400 Bad Request\n",
      "INFO:     127.0.0.1:56184 - \"POST /mcp HTTP/1.1\" 200 OK\n",
      "INFO:     127.0.0.1:56184 - \"POST /mcp HTTP/1.1\" 202 Accepted\n",
      "INFO:     127.0.0.1:56184 - \"GET /mcp HTTP/1.1\" 200 OK\n",
      "INFO:     127.0.0.1:56223 - \"POST /mcp HTTP/1.1\" 200 OK\n",
      "INFO:     127.0.0.1:56223 - \"POST /mcp HTTP/1.1\" 200 OK\n",
      "INFO:     127.0.0.1:56283 - \"POST /mcp HTTP/1.1\" 202 Accepted\n",
      "INFO:     127.0.0.1:57731 - \"DELETE /mcp HTTP/1.1\" 200 OK\n",
      "INFO:     127.0.0.1:57733 - \"POST /mcp HTTP/1.1\" 200 OK\n",
      "INFO:     127.0.0.1:57733 - \"POST /mcp HTTP/1.1\" 202 Accepted\n",
      "INFO:     127.0.0.1:57733 - \"GET /mcp HTTP/1.1\" 200 OK\n",
      "INFO:     127.0.0.1:57801 - \"POST /mcp HTTP/1.1\" 200 OK\n",
      "✅ Consent granted for cell deletion\n",
      "INFO:     127.0.0.1:58039 - \"POST /mcp HTTP/1.1\" 200 OK\n",
      "INFO:     127.0.0.1:58085 - \"POST /mcp HTTP/1.1\" 200 OK\n",
      "✅ Consent granted for deletion of 2 cell(s)\n",
      "INFO:     127.0.0.1:58183 - \"POST /mcp HTTP/1.1\" 200 OK\n",
      "INFO:     127.0.0.1:58312 - \"POST /mcp HTTP/1.1\" 200 OK\n",
      "INFO:     127.0.0.1:58363 - \"POST /mcp HTTP/1.1\" 200 OK\n",
      "✅ Consent granted for deletion of 2 cell(s)\n",
      "INFO:     127.0.0.1:58435 - \"POST /mcp HTTP/1.1\" 200 OK\n",
      "✅ Consent granted for cell deletion\n",
      "INFO:     127.0.0.1:58574 - \"POST /mcp HTTP/1.1\" 200 OK\n",
      "INFO:     127.0.0.1:58694 - \"POST /mcp HTTP/1.1\" 200 OK\n",
      "✅ Consent granted for deletion of 1 cell(s)\n"
     ]
    }
   ],
   "source": [
    "%mcp_start"
   ]
  },
  {
   "cell_type": "code",
   "execution_count": 8,
   "id": "eda0dce7-0e9f-4da5-9c4f-6d4a307f03eb",
   "metadata": {},
   "outputs": [],
   "source": [
    "import numpy as np\n",
    "test_array = np.array([1, 2, 3, 4, 5])\n",
    "multiplier = 10"
   ]
  },
  {
   "cell_type": "code",
   "execution_count": null,
   "id": "813ac8f2-d856-4650-ae89-69a0234ce014",
   "metadata": {},
   "outputs": [],
   "source": [
    "a"
   ]
  },
  {
   "cell_type": "code",
   "execution_count": 8,
   "id": "515b072a-6422-4519-8829-5a74693fa27e",
   "metadata": {},
   "outputs": [],
   "source": [
    "# Patched test cell"
   ]
  },
  {
   "cell_type": "code",
   "execution_count": 9,
   "id": "c51a66bc-42d7-4d8a-8fb0-58cebef24308",
   "metadata": {},
   "outputs": [
    {
     "ename": "NameError",
     "evalue": "name 'b' is not defined",
     "output_type": "error",
     "traceback": [
      "\u001b[31m---------------------------------------------------------------------------\u001b[39m",
      "\u001b[31mNameError\u001b[39m                                 Traceback (most recent call last)",
      "\u001b[36mCell\u001b[39m\u001b[36m \u001b[39m\u001b[32mIn[9]\u001b[39m\u001b[32m, line 1\u001b[39m\n\u001b[32m----> \u001b[39m\u001b[32m1\u001b[39m \u001b[43mb\u001b[49m\n",
      "\u001b[31mNameError\u001b[39m: name 'b' is not defined"
     ]
    }
   ],
   "source": [
    "b"
   ]
  },
  {
   "cell_type": "code",
   "execution_count": 10,
   "id": "09627128-c6a6-456b-8700-a9e81bd364f2",
   "metadata": {},
   "outputs": [
    {
     "ename": "NameError",
     "evalue": "name 'c' is not defined",
     "output_type": "error",
     "traceback": [
      "\u001b[31m---------------------------------------------------------------------------\u001b[39m",
      "\u001b[31mNameError\u001b[39m                                 Traceback (most recent call last)",
      "\u001b[36mCell\u001b[39m\u001b[36m \u001b[39m\u001b[32mIn[10]\u001b[39m\u001b[32m, line 1\u001b[39m\n\u001b[32m----> \u001b[39m\u001b[32m1\u001b[39m \u001b[43mc\u001b[49m\n",
      "\u001b[31mNameError\u001b[39m: name 'c' is not defined"
     ]
    }
   ],
   "source": [
    "c"
   ]
  },
  {
   "cell_type": "code",
   "execution_count": null,
   "id": "42676af1-2893-4475-b727-5d6029857ae7",
   "metadata": {},
   "outputs": [],
   "source": [
    "e"
   ]
  },
  {
   "cell_type": "code",
   "execution_count": null,
   "id": "4235f714-40b2-4f66-b040-dfdb3d771539",
   "metadata": {},
   "outputs": [],
   "source": [
    "f"
   ]
  },
  {
   "cell_type": "code",
   "execution_count": null,
   "id": "34ac2161-74ce-4829-9857-d9e5d3138502",
   "metadata": {},
   "outputs": [],
   "source": [
    "g"
   ]
  },
  {
   "cell_type": "code",
   "execution_count": null,
   "id": "9eda301b-2e60-4a87-8042-9d82a89b2cc5",
   "metadata": {},
   "outputs": [],
   "source": []
  },
  {
   "cell_type": "code",
   "execution_count": null,
   "id": "e1dc30ce-95ca-4191-a6ba-37ad51819895",
   "metadata": {},
   "outputs": [],
   "source": []
  }
 ],
 "metadata": {
  "kernelspec": {
   "display_name": "Python 3 (ipykernel)",
   "language": "python",
   "name": "python3"
  },
  "language_info": {
   "codemirror_mode": {
    "name": "ipython",
    "version": 3
   },
   "file_extension": ".py",
   "mimetype": "text/x-python",
   "name": "python",
   "nbconvert_exporter": "python",
   "pygments_lexer": "ipython3",
   "version": "3.11.13"
  }
 },
 "nbformat": 4,
 "nbformat_minor": 5
}
