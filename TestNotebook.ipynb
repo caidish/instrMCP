{
 "cells": [
  {
   "cell_type": "code",
   "execution_count": 1,
   "id": "d184e5f4-507d-4947-b795-a75a3ae18c25",
   "metadata": {
    "scrolled": true
   },
   "outputs": [],
   "source": [
    "import qcodes as qc\n",
    "station = qc.Station(config_file='config/station.yaml')"
   ]
  },
  {
   "cell_type": "code",
   "execution_count": 2,
   "id": "8a44d3e9-223c-46bc-8ec2-e52475dc87a3",
   "metadata": {},
   "outputs": [
    {
     "name": "stderr",
     "output_type": "stream",
     "text": [
      "2025-09-07 15:04:22,821 - servers.jupyter_qcodes.tests.data_loader - INFO - Loading data from /Users/caijiaqi/Documents/GitHub/instrMCP/servers/jupyter_qcodes/tests/data_file/MoTe2QAHE/processed_data.mat\n",
      "2025-09-07 15:04:22,846 - servers.jupyter_qcodes.tests.data_loader - INFO - Data validation passed: Vtg(220), Vbg(900), lockin arrays(900x220)\n",
      "2025-09-07 15:04:22,846 - servers.jupyter_qcodes.tests.data_loader - INFO - Data loaded and validated successfully\n",
      "2025-09-07 15:04:22,847 - servers.jupyter_qcodes.tests.test_instr.general_test_instrument - INFO - Data loaded from /Users/caijiaqi/Documents/GitHub/instrMCP/servers/jupyter_qcodes/tests/data_file/MoTe2QAHE/processed_data.mat\n",
      "2025-09-07 15:04:22,848 - servers.jupyter_qcodes.tests.test_instr.general_test_instrument - INFO - General test instrument 'mote2_general' initialized from ${instrMCP_PATH}/servers/jupyter_qcodes/tests/data_file/MoTe2QAHE/MoTe2Para.json (expanded: /Users/caijiaqi/Documents/GitHub/instrMCP/servers/jupyter_qcodes/tests/data_file/MoTe2QAHE/MoTe2Para.json)\n"
     ]
    }
   ],
   "source": [
    "dac1 = station.load_mock_dac1()\n",
    "dac2 = station.load_mock_dac2()\n",
    "mote2general = station.load_mote2_general()"
   ]
  },
  {
   "cell_type": "code",
   "execution_count": 3,
   "id": "f9bcc747-a532-4a31-848d-d7b055233442",
   "metadata": {},
   "outputs": [
    {
     "name": "stderr",
     "output_type": "stream",
     "text": [
      "2025-09-07 15:04:24,857 - servers.jupyter_qcodes.jupyter_mcp_extension - INFO - Loading Jupyter QCoDeS MCP extension...\n",
      "2025-09-07 15:04:24,859 - servers.jupyter_qcodes.active_cell_bridge - INFO - Registered comm target 'mcp:active_cell'\n",
      "2025-09-07 15:04:24,860 - servers.jupyter_qcodes.tools - INFO - QCoDesReadOnlyTools initialized\n",
      "2025-09-07 15:04:24,872 - servers.jupyter_qcodes.mcp_server - INFO - Jupyter MCP Server initialized on 127.0.0.1:8123 in safe mode\n",
      "2025-09-07 15:04:24,873 - servers.jupyter_qcodes.jupyter_mcp_extension - INFO - Jupyter QCoDeS MCP extension loaded successfully\n"
     ]
    },
    {
     "name": "stdout",
     "output_type": "stream",
     "text": [
      "✅ QCoDeS MCP extension loaded\n",
      "📋 Use %mcp_status to check server status\n",
      "🚀 Use %mcp_start to start the server\n"
     ]
    }
   ],
   "source": [
    "%load_ext servers.jupyter_qcodes.jupyter_mcp_extension"
   ]
  },
  {
   "cell_type": "code",
   "execution_count": 6,
   "id": "c4dd8645-506c-4560-a850-b4f864da1620",
   "metadata": {},
   "outputs": [
    {
     "name": "stdout",
     "output_type": "stream",
     "text": [
      "⚠️ MCP Server Status:\n",
      "   Mode: unsafe\n",
      "   Running: ❌\n",
      "   Host: 127.0.0.1:8123\n",
      "   Task: ❌ Inactive\n",
      "   Unsafe tools: execute_editing_cell\n",
      "   Available: %mcp_start\n"
     ]
    }
   ],
   "source": [
    "%mcp_status"
   ]
  },
  {
   "cell_type": "code",
   "execution_count": 5,
   "id": "c5d5e22e-f7a0-481e-aa3d-617c10a43cdd",
   "metadata": {},
   "outputs": [
    {
     "name": "stderr",
     "output_type": "stream",
     "text": [
      "2025-09-07 15:04:31,361 - servers.jupyter_qcodes.mcp_server - INFO - MCP server mode changed from safe to unsafe\n"
     ]
    },
    {
     "name": "stdout",
     "output_type": "stream",
     "text": [
      "⚠️  MCP server switched to unsafe mode\n",
      "⚠️  UNSAFE MODE: execute_editing_cell tool will be available\n",
      "✅ Mode change will take effect when server starts\n"
     ]
    }
   ],
   "source": [
    "%mcp_unsafe"
   ]
  },
  {
   "cell_type": "code",
   "execution_count": 7,
   "id": "95dde381-dd66-4475-9a7a-aaeb9f1aa7b4",
   "metadata": {},
   "outputs": [
    {
     "name": "stderr",
     "output_type": "stream",
     "text": [
      "2025-09-07 15:04:36,432 - servers.jupyter_qcodes.mcp_server - INFO - Starting Jupyter MCP server on 127.0.0.1:8123\n"
     ]
    },
    {
     "name": "stdout",
     "output_type": "stream",
     "text": [
      "🚀 Starting MCP server...\n",
      "🚀 QCoDeS MCP Server running on http://127.0.0.1:8123\n",
      "🔑 Access token: 4aPCe__sq2vBtpSVhY_3fTm72Immq3PUO6AN8qyJG_Y\n"
     ]
    },
    {
     "name": "stderr",
     "output_type": "stream",
     "text": [
      "/Users/caijiaqi/Documents/GitHub/instrMCP/venv/lib/python3.10/site-packages/websockets/legacy/__init__.py:6: DeprecationWarning: websockets.legacy is deprecated; see https://websockets.readthedocs.io/en/stable/howto/upgrade.html for upgrade instructions\n",
      "  warnings.warn(  # deprecated in 14.0 - 2024-11-09\n",
      "/Users/caijiaqi/Documents/GitHub/instrMCP/venv/lib/python3.10/site-packages/uvicorn/protocols/websockets/websockets_impl.py:17: DeprecationWarning: websockets.server.WebSocketServerProtocol is deprecated\n",
      "  from websockets.server import WebSocketServerProtocol\n",
      "INFO:     Started server process [81011]\n",
      "INFO:     Waiting for application startup.\n",
      "2025-09-07 15:04:36,484 - mcp.server.streamable_http_manager - INFO - StreamableHTTP session manager started\n",
      "INFO:     Application startup complete.\n",
      "INFO:     Uvicorn running on http://127.0.0.1:8123 (Press CTRL+C to quit)\n"
     ]
    },
    {
     "name": "stdout",
     "output_type": "stream",
     "text": [
      "✅ MCP server started in ⚠️ unsafe mode\n"
     ]
    },
    {
     "name": "stderr",
     "output_type": "stream",
     "text": [
      "2025-09-07 15:04:46,141 - mcp.server.streamable_http_manager - INFO - Created new transport with session ID: 7bd50fce74574d6fa0fd0451cabf5a29\n"
     ]
    },
    {
     "name": "stdout",
     "output_type": "stream",
     "text": [
      "INFO:     127.0.0.1:58598 - \"POST /mcp HTTP/1.1\" 200 OK\n",
      "INFO:     127.0.0.1:58598 - \"POST /mcp HTTP/1.1\" 202 Accepted\n",
      "INFO:     127.0.0.1:58600 - \"GET /mcp HTTP/1.1\" 200 OK\n",
      "INFO:     127.0.0.1:58598 - \"POST /mcp HTTP/1.1\" 200 OK\n"
     ]
    },
    {
     "name": "stderr",
     "output_type": "stream",
     "text": [
      "2025-09-07 15:04:47,482 - mcp.server.lowlevel.server - INFO - Processing request of type ListToolsRequest\n",
      "2025-09-07 15:06:30,873 - mcp.server.streamable_http - INFO - Terminating session: 7bd50fce74574d6fa0fd0451cabf5a29\n"
     ]
    },
    {
     "name": "stdout",
     "output_type": "stream",
     "text": [
      "INFO:     127.0.0.1:58790 - \"DELETE /mcp HTTP/1.1\" 200 OK\n"
     ]
    },
    {
     "name": "stderr",
     "output_type": "stream",
     "text": [
      "2025-09-07 15:06:58,375 - mcp.server.streamable_http_manager - INFO - Created new transport with session ID: 3f12bbe0b54242f09314a85a492ab7ea\n"
     ]
    },
    {
     "name": "stdout",
     "output_type": "stream",
     "text": [
      "INFO:     127.0.0.1:58847 - \"POST /mcp HTTP/1.1\" 200 OK\n",
      "INFO:     127.0.0.1:58847 - \"POST /mcp HTTP/1.1\" 202 Accepted\n",
      "INFO:     127.0.0.1:58849 - \"GET /mcp HTTP/1.1\" 200 OK\n",
      "INFO:     127.0.0.1:58847 - \"POST /mcp HTTP/1.1\" 200 OK\n"
     ]
    },
    {
     "name": "stderr",
     "output_type": "stream",
     "text": [
      "2025-09-07 15:07:00,570 - mcp.server.lowlevel.server - INFO - Processing request of type ListToolsRequest\n"
     ]
    }
   ],
   "source": [
    "%mcp_start"
   ]
  },
  {
   "cell_type": "code",
   "execution_count": null,
   "id": "12902684-5f9e-4cc9-ba04-6a6df7d81ce8",
   "metadata": {},
   "outputs": [],
   "source": [
    "dac1.print_readable_snapshot()"
   ]
  }
 ],
 "metadata": {
  "kernelspec": {
   "display_name": "Python 3 (ipykernel)",
   "language": "python",
   "name": "python3"
  },
  "language_info": {
   "codemirror_mode": {
    "name": "ipython",
    "version": 3
   },
   "file_extension": ".py",
   "mimetype": "text/x-python",
   "name": "python",
   "nbconvert_exporter": "python",
   "pygments_lexer": "ipython3",
   "version": "3.10.14"
  }
 },
 "nbformat": 4,
 "nbformat_minor": 5
}
