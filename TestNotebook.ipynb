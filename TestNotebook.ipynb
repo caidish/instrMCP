{
 "cells": [
  {
   "cell_type": "code",
   "execution_count": 1,
   "id": "d184e5f4-507d-4947-b795-a75a3ae18c25",
   "metadata": {
    "scrolled": true
   },
   "outputs": [],
   "source": [
    "import qcodes as qc\n",
    "station = qc.Station(config_file='config/station.yaml')"
   ]
  },
  {
   "cell_type": "code",
   "execution_count": 2,
   "id": "8a44d3e9-223c-46bc-8ec2-e52475dc87a3",
   "metadata": {
    "scrolled": true
   },
   "outputs": [],
   "source": [
    "dac1 = station.load_mock_dac1()\n",
    "dac2 = station.load_mock_dac2()\n",
    "mote2general = station.load_mote2_general()"
   ]
  },
  {
   "cell_type": "code",
   "execution_count": 3,
   "id": "5d9183db-f92d-4b8e-9b86-053b66f8fde1",
   "metadata": {},
   "outputs": [
    {
     "name": "stderr",
     "output_type": "stream",
     "text": [
      "2025-09-07 21:43:42,650 - instrmcp.servers.jupyter_qcodes.jupyter_mcp_extension - INFO - Loading Jupyter QCoDeS MCP extension...\n",
      "2025-09-07 21:43:42,651 - instrmcp.servers.jupyter_qcodes.active_cell_bridge - INFO - Registered comm target 'mcp:active_cell'\n",
      "2025-09-07 21:43:42,651 - instrmcp.servers.jupyter_qcodes.jupyter_mcp_extension - INFO - Jupyter QCoDeS MCP extension loaded successfully\n"
     ]
    },
    {
     "name": "stdout",
     "output_type": "stream",
     "text": [
      "✅ QCoDeS MCP extension loaded\n",
      "🛡️  Default mode: safe\n",
      "📋 Use %mcp_status to check server status\n",
      "⚠️  Use %mcp_unsafe to switch to unsafe mode (if needed)\n",
      "🚀 Use %mcp_start to start the server\n"
     ]
    }
   ],
   "source": [
    "%load_ext instrmcp.extensions"
   ]
  },
  {
   "cell_type": "code",
   "execution_count": 4,
   "id": "c4dd8645-506c-4560-a850-b4f864da1620",
   "metadata": {},
   "outputs": [
    {
     "name": "stdout",
     "output_type": "stream",
     "text": [
      "🛡️ MCP Server Status:\n",
      "   Desired Mode: safe\n",
      "   Server Instance: ❌ Not created yet\n",
      "   Available: %mcp_start\n"
     ]
    }
   ],
   "source": [
    "%mcp_status"
   ]
  },
  {
   "cell_type": "code",
   "execution_count": 5,
   "id": "c5d5e22e-f7a0-481e-aa3d-617c10a43cdd",
   "metadata": {},
   "outputs": [
    {
     "name": "stdout",
     "output_type": "stream",
     "text": [
      "⚠️  Mode set to unsafe\n",
      "⚠️  UNSAFE MODE: execute_editing_cell tool will be available\n",
      "✅ Mode will take effect when server starts\n"
     ]
    }
   ],
   "source": [
    "%mcp_unsafe"
   ]
  },
  {
   "cell_type": "code",
   "execution_count": 6,
   "id": "95dde381-dd66-4475-9a7a-aaeb9f1aa7b4",
   "metadata": {},
   "outputs": [
    {
     "name": "stderr",
     "output_type": "stream",
     "text": [
      "2025-09-07 21:43:49,069 - instrmcp.servers.jupyter_qcodes.tools - INFO - QCoDesReadOnlyTools initialized\n",
      "2025-09-07 21:43:49,077 - instrmcp.servers.jupyter_qcodes.mcp_server - INFO - Jupyter MCP Server initialized on 127.0.0.1:8123 in unsafe mode\n",
      "2025-09-07 21:43:49,078 - instrmcp.servers.jupyter_qcodes.mcp_server - INFO - Starting Jupyter MCP server on 127.0.0.1:8123\n"
     ]
    },
    {
     "name": "stdout",
     "output_type": "stream",
     "text": [
      "🚀 Starting MCP server...\n",
      "🚀 QCoDeS MCP Server running on http://127.0.0.1:8123\n",
      "🔑 Access token: BKno8W5_eoHZAi3bEb6evpoQL_kDEj58PgCf2yTAbb0\n"
     ]
    },
    {
     "name": "stderr",
     "output_type": "stream",
     "text": [
      "/Users/caijiaqi/miniforge3/envs/instrMCPdev/lib/python3.11/site-packages/websockets/legacy/__init__.py:6: DeprecationWarning: websockets.legacy is deprecated; see https://websockets.readthedocs.io/en/stable/howto/upgrade.html for upgrade instructions\n",
      "  warnings.warn(  # deprecated in 14.0 - 2024-11-09\n",
      "/Users/caijiaqi/miniforge3/envs/instrMCPdev/lib/python3.11/site-packages/uvicorn/protocols/websockets/websockets_impl.py:17: DeprecationWarning: websockets.server.WebSocketServerProtocol is deprecated\n",
      "  from websockets.server import WebSocketServerProtocol\n",
      "INFO:     Started server process [63248]\n",
      "INFO:     Waiting for application startup.\n",
      "2025-09-07 21:43:49,107 - mcp.server.streamable_http_manager - INFO - StreamableHTTP session manager started\n",
      "INFO:     Application startup complete.\n",
      "INFO:     Uvicorn running on http://127.0.0.1:8123 (Press CTRL+C to quit)\n"
     ]
    },
    {
     "name": "stdout",
     "output_type": "stream",
     "text": [
      "✅ MCP server started in ⚠️ unsafe mode\n",
      "⚠️  UNSAFE MODE: execute_editing_cell tool is available\n"
     ]
    },
    {
     "name": "stderr",
     "output_type": "stream",
     "text": [
      "2025-09-07 21:44:30,317 - mcp.server.streamable_http_manager - INFO - Created new transport with session ID: b7652b1b51594d39bd8fe671da4807e6\n"
     ]
    },
    {
     "name": "stdout",
     "output_type": "stream",
     "text": [
      "INFO:     127.0.0.1:54925 - \"POST /mcp HTTP/1.1\" 200 OK\n",
      "INFO:     127.0.0.1:54925 - \"POST /mcp HTTP/1.1\" 202 Accepted\n",
      "INFO:     127.0.0.1:54927 - \"GET /mcp HTTP/1.1\" 200 OK\n",
      "INFO:     127.0.0.1:54945 - \"POST /mcp HTTP/1.1\" 200 OK\n"
     ]
    },
    {
     "name": "stderr",
     "output_type": "stream",
     "text": [
      "2025-09-07 21:44:34,577 - mcp.server.lowlevel.server - INFO - Processing request of type ListToolsRequest\n"
     ]
    },
    {
     "name": "stdout",
     "output_type": "stream",
     "text": [
      "INFO:     127.0.0.1:54951 - \"POST /mcp HTTP/1.1\" 200 OK\n"
     ]
    },
    {
     "name": "stderr",
     "output_type": "stream",
     "text": [
      "2025-09-07 21:44:40,686 - mcp.server.lowlevel.server - INFO - Processing request of type CallToolRequest\n"
     ]
    },
    {
     "name": "stdout",
     "output_type": "stream",
     "text": [
      "INFO:     127.0.0.1:54959 - \"POST /mcp HTTP/1.1\" 200 OK\n"
     ]
    },
    {
     "name": "stderr",
     "output_type": "stream",
     "text": [
      "2025-09-07 21:44:47,233 - mcp.server.lowlevel.server - INFO - Processing request of type CallToolRequest\n"
     ]
    },
    {
     "name": "stdout",
     "output_type": "stream",
     "text": [
      "INFO:     127.0.0.1:55018 - \"POST /mcp HTTP/1.1\" 200 OK\n"
     ]
    },
    {
     "name": "stderr",
     "output_type": "stream",
     "text": [
      "2025-09-07 21:45:05,067 - mcp.server.lowlevel.server - INFO - Processing request of type CallToolRequest\n"
     ]
    },
    {
     "name": "stdout",
     "output_type": "stream",
     "text": [
      "INFO:     127.0.0.1:55039 - \"POST /mcp HTTP/1.1\" 200 OK\n"
     ]
    },
    {
     "name": "stderr",
     "output_type": "stream",
     "text": [
      "2025-09-07 21:45:19,229 - mcp.server.lowlevel.server - INFO - Processing request of type CallToolRequest\n"
     ]
    }
   ],
   "source": [
    "%mcp_start"
   ]
  },
  {
   "cell_type": "code",
   "execution_count": 7,
   "id": "12902684-5f9e-4cc9-ba04-6a6df7d81ce8",
   "metadata": {},
   "outputs": [
    {
     "name": "stdout",
     "output_type": "stream",
     "text": [
      "mock_dac1:\n",
      "\tparameter value\n",
      "--------------------------------------------------------------------------------\n",
      "IDN :\t{'vendor': 'QCoDeS', 'model': \"<class 'qcodes.instrument_drivers.mock_i...\n",
      "mock_dac1_ch01:\n",
      "\tparameter value\n",
      "--------------------------------------------------------------------------------\n",
      "bus        :\toff \n",
      "dac_output :\toff \n",
      "gnd        :\toff \n",
      "smc        :\toff \n",
      "voltage    :\t0.1 (V)\n",
      "mock_dac1_ch02:\n",
      "\tparameter value\n",
      "--------------------------------------------------------------------------------\n",
      "bus        :\toff \n",
      "dac_output :\toff \n",
      "gnd        :\toff \n",
      "smc        :\toff \n",
      "voltage    :\t0.2 (V)\n",
      "mock_dac1_ch01:\n",
      "\tparameter value\n",
      "--------------------------------------------------------------------------------\n",
      "bus        :\toff \n",
      "dac_output :\toff \n",
      "gnd        :\toff \n",
      "smc        :\toff \n",
      "voltage    :\t0.1 (V)\n",
      "mock_dac1_ch02:\n",
      "\tparameter value\n",
      "--------------------------------------------------------------------------------\n",
      "bus        :\toff \n",
      "dac_output :\toff \n",
      "gnd        :\toff \n",
      "smc        :\toff \n",
      "voltage    :\t0.2 (V)\n"
     ]
    }
   ],
   "source": [
    "dac1.print_readable_snapshot()"
   ]
  }
 ],
 "metadata": {
  "kernelspec": {
   "display_name": "Python 3 (ipykernel)",
   "language": "python",
   "name": "python3"
  },
  "language_info": {
   "codemirror_mode": {
    "name": "ipython",
    "version": 3
   },
   "file_extension": ".py",
   "mimetype": "text/x-python",
   "name": "python",
   "nbconvert_exporter": "python",
   "pygments_lexer": "ipython3",
   "version": "3.11.13"
  }
 },
 "nbformat": 4,
 "nbformat_minor": 5
}
