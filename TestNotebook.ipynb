{
 "cells": [
  {
   "cell_type": "code",
   "execution_count": null,
   "id": "d184e5f4-507d-4947-b795-a75a3ae18c25",
   "metadata": {
    "scrolled": true
   },
   "outputs": [],
   "source": [
    "import qcodes as qc\n",
    "station = qc.Station(config_file='config/station.yaml')"
   ]
  },
  {
   "cell_type": "code",
   "execution_count": 2,
   "id": "8a44d3e9-223c-46bc-8ec2-e52475dc87a3",
   "metadata": {
    "scrolled": true
   },
   "outputs": [
    {
     "name": "stderr",
     "output_type": "stream",
     "text": [
      "2025-09-07 15:04:22,821 - servers.jupyter_qcodes.tests.data_loader - INFO - Loading data from /Users/caijiaqi/Documents/GitHub/instrMCP/servers/jupyter_qcodes/tests/data_file/MoTe2QAHE/processed_data.mat\n",
      "2025-09-07 15:04:22,846 - servers.jupyter_qcodes.tests.data_loader - INFO - Data validation passed: Vtg(220), Vbg(900), lockin arrays(900x220)\n",
      "2025-09-07 15:04:22,846 - servers.jupyter_qcodes.tests.data_loader - INFO - Data loaded and validated successfully\n",
      "2025-09-07 15:04:22,847 - servers.jupyter_qcodes.tests.test_instr.general_test_instrument - INFO - Data loaded from /Users/caijiaqi/Documents/GitHub/instrMCP/servers/jupyter_qcodes/tests/data_file/MoTe2QAHE/processed_data.mat\n",
      "2025-09-07 15:04:22,848 - servers.jupyter_qcodes.tests.test_instr.general_test_instrument - INFO - General test instrument 'mote2_general' initialized from ${instrMCP_PATH}/servers/jupyter_qcodes/tests/data_file/MoTe2QAHE/MoTe2Para.json (expanded: /Users/caijiaqi/Documents/GitHub/instrMCP/servers/jupyter_qcodes/tests/data_file/MoTe2QAHE/MoTe2Para.json)\n"
     ]
    }
   ],
   "source": [
    "dac1 = station.load_mock_dac1()\n",
    "dac2 = station.load_mock_dac2()\n",
    "mote2general = station.load_mote2_general()"
   ]
  },
  {
   "cell_type": "code",
   "execution_count": 6,
   "id": "f920c052-a0db-42aa-9b54-62d8d23dd978",
   "metadata": {},
   "outputs": [
    {
     "name": "stderr",
     "output_type": "stream",
     "text": [
      "2025-09-07 19:59:33,132 - instrmcp.tools.context7_client - WARNING - Context7 API key not provided - Context7 features disabled\n",
      "2025-09-07 19:59:33,143 - instrmcp.servers.jupyter_qcodes.jupyter_mcp_extension - INFO - Loading Jupyter QCoDeS MCP extension...\n",
      "2025-09-07 19:59:33,143 - instrmcp.servers.jupyter_qcodes.active_cell_bridge - INFO - Registered comm target 'mcp:active_cell'\n",
      "2025-09-07 19:59:33,143 - instrmcp.servers.jupyter_qcodes.jupyter_mcp_extension - INFO - Jupyter QCoDeS MCP extension loaded successfully\n"
     ]
    },
    {
     "name": "stdout",
     "output_type": "stream",
     "text": [
      "✅ QCoDeS MCP extension loaded\n",
      "🛡️  Default mode: safe\n",
      "📋 Use %mcp_status to check server status\n",
      "⚠️  Use %mcp_unsafe to switch to unsafe mode (if needed)\n",
      "🚀 Use %mcp_start to start the server\n"
     ]
    }
   ],
   "source": [
    "%load_ext instrmcp.servers.jupyter_qcodes.jupyter_mcp_extension"
   ]
  },
  {
   "cell_type": "code",
   "execution_count": null,
   "id": "c4dd8645-506c-4560-a850-b4f864da1620",
   "metadata": {},
   "outputs": [],
   "source": [
    "%mcp_status"
   ]
  },
  {
   "cell_type": "code",
   "execution_count": 8,
   "id": "c5d5e22e-f7a0-481e-aa3d-617c10a43cdd",
   "metadata": {},
   "outputs": [
    {
     "name": "stdout",
     "output_type": "stream",
     "text": [
      "⚠️  Mode set to unsafe\n",
      "⚠️  UNSAFE MODE: execute_editing_cell tool will be available\n",
      "✅ Mode will take effect when server starts\n"
     ]
    }
   ],
   "source": [
    "%mcp_unsafe"
   ]
  },
  {
   "cell_type": "code",
   "execution_count": 9,
   "id": "95dde381-dd66-4475-9a7a-aaeb9f1aa7b4",
   "metadata": {},
   "outputs": [
    {
     "name": "stderr",
     "output_type": "stream",
     "text": [
      "2025-09-07 20:00:01,436 - instrmcp.servers.jupyter_qcodes.tools - INFO - QCoDesReadOnlyTools initialized\n",
      "2025-09-07 20:00:01,448 - instrmcp.servers.jupyter_qcodes.mcp_server - INFO - Jupyter MCP Server initialized on 127.0.0.1:8123 in unsafe mode\n",
      "2025-09-07 20:00:01,448 - instrmcp.servers.jupyter_qcodes.mcp_server - INFO - Starting Jupyter MCP server on 127.0.0.1:8123\n"
     ]
    },
    {
     "name": "stdout",
     "output_type": "stream",
     "text": [
      "🚀 Starting MCP server...\n",
      "🚀 QCoDeS MCP Server running on http://127.0.0.1:8123\n",
      "🔑 Access token: gr8q2zuei_w1z2FRYZOlqMdLEQTIRN94LozUfeZxVjQ\n"
     ]
    },
    {
     "data": {
      "text/html": [
       "<pre style=\"white-space:pre;overflow-x:auto;line-height:normal;font-family:Menlo,'DejaVu Sans Mono',consolas,'Courier New',monospace\"><span style=\"color: #7fbfbf; text-decoration-color: #7fbfbf\">[09/07/25 20:00:01] </span><span style=\"color: #000080; text-decoration-color: #000080\">INFO    </span> Starting MCP server <span style=\"color: #008000; text-decoration-color: #008000\">'Jupyter QCoDeS MCP Server (Unsafe Mode)'</span> with      <a href=\"file:///Users/caijiaqi/miniforge3/lib/python3.10/site-packages/fastmcp/server/server.py\" target=\"_blank\"><span style=\"color: #7f7f7f; text-decoration-color: #7f7f7f\">server.py</span></a><span style=\"color: #7f7f7f; text-decoration-color: #7f7f7f\">:</span><a href=\"file:///Users/caijiaqi/miniforge3/lib/python3.10/site-packages/fastmcp/server/server.py#1570\" target=\"_blank\"><span style=\"color: #7f7f7f; text-decoration-color: #7f7f7f\">1570</span></a>\n",
       "<span style=\"color: #7fbfbf; text-decoration-color: #7fbfbf\">                    </span>         transport <span style=\"color: #008000; text-decoration-color: #008000\">'http'</span> on <span style=\"color: #0000ff; text-decoration-color: #0000ff; text-decoration: underline\">http://127.0.0.1:8123/mcp</span>                           <span style=\"color: #7f7f7f; text-decoration-color: #7f7f7f\">              </span>\n",
       "</pre>\n"
      ],
      "text/plain": [
       "\u001b[2;36m[09/07/25 20:00:01]\u001b[0m\u001b[2;36m \u001b[0m\u001b[34mINFO    \u001b[0m Starting MCP server \u001b[32m'Jupyter QCoDeS MCP Server \u001b[0m\u001b[32m(\u001b[0m\u001b[32mUnsafe Mode\u001b[0m\u001b[32m)\u001b[0m\u001b[32m'\u001b[0m with      \u001b]8;id=829873;file:///Users/caijiaqi/miniforge3/lib/python3.10/site-packages/fastmcp/server/server.py\u001b\\\u001b[2mserver.py\u001b[0m\u001b]8;;\u001b\\\u001b[2m:\u001b[0m\u001b]8;id=111791;file:///Users/caijiaqi/miniforge3/lib/python3.10/site-packages/fastmcp/server/server.py#1570\u001b\\\u001b[2m1570\u001b[0m\u001b]8;;\u001b\\\n",
       "\u001b[2;36m                    \u001b[0m         transport \u001b[32m'http'\u001b[0m on \u001b[4;94mhttp://127.0.0.1:8123/mcp\u001b[0m                           \u001b[2m              \u001b[0m\n"
      ]
     },
     "metadata": {},
     "output_type": "display_data"
    },
    {
     "name": "stderr",
     "output_type": "stream",
     "text": [
      "/Users/caijiaqi/miniforge3/lib/python3.10/site-packages/websockets/legacy/__init__.py:6: DeprecationWarning: websockets.legacy is deprecated; see https://websockets.readthedocs.io/en/stable/howto/upgrade.html for upgrade instructions\n",
      "  warnings.warn(  # deprecated in 14.0 - 2024-11-09\n",
      "/Users/caijiaqi/miniforge3/lib/python3.10/site-packages/uvicorn/protocols/websockets/websockets_impl.py:17: DeprecationWarning: websockets.server.WebSocketServerProtocol is deprecated\n",
      "  from websockets.server import WebSocketServerProtocol\n",
      "INFO:     Started server process [97134]\n",
      "INFO:     Waiting for application startup.\n",
      "2025-09-07 20:00:01,481 - mcp.server.streamable_http_manager - INFO - StreamableHTTP session manager started\n",
      "INFO:     Application startup complete.\n",
      "INFO:     Uvicorn running on http://127.0.0.1:8123 (Press CTRL+C to quit)\n"
     ]
    },
    {
     "name": "stdout",
     "output_type": "stream",
     "text": [
      "✅ MCP server started in ⚠️ unsafe mode\n",
      "⚠️  UNSAFE MODE: execute_editing_cell tool is available\n"
     ]
    },
    {
     "name": "stderr",
     "output_type": "stream",
     "text": [
      "2025-09-07 20:00:27,520 - mcp.server.streamable_http_manager - INFO - Created new transport with session ID: 70f5b521cc694dcaab27953b2dac5a23\n"
     ]
    },
    {
     "name": "stdout",
     "output_type": "stream",
     "text": [
      "INFO:     127.0.0.1:54211 - \"POST /mcp HTTP/1.1\" 200 OK\n",
      "INFO:     127.0.0.1:54211 - \"POST /mcp HTTP/1.1\" 202 Accepted\n",
      "INFO:     127.0.0.1:54213 - \"GET /mcp HTTP/1.1\" 200 OK\n",
      "INFO:     127.0.0.1:54211 - \"POST /mcp HTTP/1.1\" 200 OK\n"
     ]
    },
    {
     "name": "stderr",
     "output_type": "stream",
     "text": [
      "2025-09-07 20:00:28,905 - mcp.server.lowlevel.server - INFO - Processing request of type ListToolsRequest\n"
     ]
    },
    {
     "name": "stdout",
     "output_type": "stream",
     "text": [
      "INFO:     127.0.0.1:54234 - \"POST /mcp HTTP/1.1\" 200 OK\n"
     ]
    },
    {
     "name": "stderr",
     "output_type": "stream",
     "text": [
      "2025-09-07 20:00:35,766 - mcp.server.lowlevel.server - INFO - Processing request of type CallToolRequest\n"
     ]
    },
    {
     "name": "stdout",
     "output_type": "stream",
     "text": [
      "INFO:     127.0.0.1:54259 - \"POST /mcp HTTP/1.1\" 200 OK\n"
     ]
    },
    {
     "name": "stderr",
     "output_type": "stream",
     "text": [
      "2025-09-07 20:00:49,581 - mcp.server.lowlevel.server - INFO - Processing request of type CallToolRequest\n"
     ]
    }
   ],
   "source": [
    "%mcp_start"
   ]
  },
  {
   "cell_type": "code",
   "execution_count": null,
   "id": "12902684-5f9e-4cc9-ba04-6a6df7d81ce8",
   "metadata": {},
   "outputs": [],
   "source": [
    "dac1.print_readable_snapshot()"
   ]
  }
 ],
 "metadata": {
  "kernelspec": {
   "display_name": "Python 3 (ipykernel)",
   "language": "python",
   "name": "python3"
  },
  "language_info": {
   "codemirror_mode": {
    "name": "ipython",
    "version": 3
   },
   "file_extension": ".py",
   "mimetype": "text/x-python",
   "name": "python",
   "nbconvert_exporter": "python",
   "pygments_lexer": "ipython3",
   "version": "3.11.13"
  }
 },
 "nbformat": 4,
 "nbformat_minor": 5
}
