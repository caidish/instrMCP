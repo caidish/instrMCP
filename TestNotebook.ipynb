{
 "cells": [
  {
   "cell_type": "code",
   "execution_count": 1,
   "id": "d184e5f4-507d-4947-b795-a75a3ae18c25",
   "metadata": {
    "scrolled": true
   },
   "outputs": [
    {
     "name": "stdout",
     "output_type": "stream",
     "text": [
      "Logging hadn't been started.\n",
      "Activating auto-logging. Current session state plus future input saved.\n",
      "Filename       : /Users/caijiaqi/.qcodes/logs/command_history.log\n",
      "Mode           : append\n",
      "Output logging : True\n",
      "Raw input log  : False\n",
      "Timestamping   : True\n",
      "State          : active\n",
      "Qcodes Logfile : /Users/caijiaqi/.qcodes/logs/251014-25095-qcodes.log\n"
     ]
    }
   ],
   "source": [
    "import qcodes as qc\n",
    "station = qc.Station(config_file='config/station.yaml')"
   ]
  },
  {
   "cell_type": "code",
   "execution_count": 2,
   "id": "8a44d3e9-223c-46bc-8ec2-e52475dc87a3",
   "metadata": {
    "scrolled": true
   },
   "outputs": [],
   "source": [
    "dac1 = station.load_mock_dac1()\n",
    "dac2 = station.load_mock_dac2()"
   ]
  },
  {
   "cell_type": "code",
   "execution_count": 3,
   "id": "5d9183db-f92d-4b8e-9b86-053b66f8fde1",
   "metadata": {},
   "outputs": [
    {
     "name": "stdout",
     "output_type": "stream",
     "text": [
      "✅ QCoDeS MCP extension loaded\n",
      "🛡️  Default mode: safe\n",
      "📋 Use %mcp_status to check server status\n",
      "⚠️  Use %mcp_unsafe to switch to unsafe mode (if needed)\n",
      "🚀 Use %mcp_start to start the server\n"
     ]
    }
   ],
   "source": [
    "%load_ext instrmcp.extensions"
   ]
  },
  {
   "cell_type": "code",
   "execution_count": 4,
   "id": "c4dd8645-506c-4560-a850-b4f864da1620",
   "metadata": {
    "scrolled": true
   },
   "outputs": [
    {
     "name": "stdout",
     "output_type": "stream",
     "text": [
      "🛡️ MCP Server Status:\n",
      "   Desired Mode: safe\n",
      "   Server Instance: ❌ Not created yet\n",
      "   Available: %mcp_start\n"
     ]
    }
   ],
   "source": [
    "%mcp_status"
   ]
  },
  {
   "cell_type": "code",
   "execution_count": 5,
   "id": "6a069a25-0b50-4280-b7f4-7fedcfe9b4f1",
   "metadata": {},
   "outputs": [
    {
     "name": "stdout",
     "output_type": "stream",
     "text": [
      "✅ Added: measureit\n",
      "✅ Added: database\n",
      "✅ Added: auto_correct_json\n",
      "✅ Changes will take effect when server starts\n"
     ]
    }
   ],
   "source": [
    "%mcp_option add measureit database auto_correct_json"
   ]
  },
  {
   "cell_type": "code",
   "execution_count": 6,
   "id": "c5d5e22e-f7a0-481e-aa3d-617c10a43cdd",
   "metadata": {},
   "outputs": [
    {
     "name": "stdout",
     "output_type": "stream",
     "text": [
      "⚠️  Mode set to unsafe\n",
      "⚠️  UNSAFE MODE: execute_editing_cell tool will be available\n",
      "✅ Mode will take effect when server starts\n"
     ]
    }
   ],
   "source": [
    "%mcp_unsafe"
   ]
  },
  {
   "cell_type": "code",
   "execution_count": 7,
   "id": "95dde381-dd66-4475-9a7a-aaeb9f1aa7b4",
   "metadata": {
    "scrolled": true
   },
   "outputs": [
    {
     "name": "stdout",
     "output_type": "stream",
     "text": [
      "🚀 Starting MCP server...\n",
      "🚀 QCoDeS MCP Server running on http://127.0.0.1:8123\n",
      "🔑 Access token: _b7Z16HlOCqTlYDBm-SKZCWq2dZ_KIH37Tk5P8y21Zg\n"
     ]
    },
    {
     "name": "stderr",
     "output_type": "stream",
     "text": [
      "2025-10-14 16:36:39,899 ¦ py.warnings ¦ WARNING ¦ warnings ¦ _showwarnmsg ¦ 110 ¦ /Users/caijiaqi/miniforge3/envs/instrMCPdev/lib/python3.11/site-packages/websockets/legacy/__init__.py:6: DeprecationWarning: websockets.legacy is deprecated; see https://websockets.readthedocs.io/en/stable/howto/upgrade.html for upgrade instructions\n",
      "  warnings.warn(  # deprecated in 14.0 - 2024-11-09\n",
      "\n",
      "2025-10-14 16:36:39,904 ¦ py.warnings ¦ WARNING ¦ warnings ¦ _showwarnmsg ¦ 110 ¦ /Users/caijiaqi/miniforge3/envs/instrMCPdev/lib/python3.11/site-packages/uvicorn/protocols/websockets/websockets_impl.py:17: DeprecationWarning: websockets.server.WebSocketServerProtocol is deprecated\n",
      "  from websockets.server import WebSocketServerProtocol\n",
      "\n",
      "INFO:     Started server process [25095]\n",
      "INFO:     Waiting for application startup.\n",
      "INFO:     Application startup complete.\n",
      "INFO:     Uvicorn running on http://127.0.0.1:8123 (Press CTRL+C to quit)\n"
     ]
    },
    {
     "name": "stdout",
     "output_type": "stream",
     "text": [
      "✅ MCP server started in ⚠️ unsafe mode\n",
      "⚠️  UNSAFE MODE: execute_editing_cell tool is available\n",
      "INFO:     127.0.0.1:52865 - \"DELETE /mcp HTTP/1.1\" 400 Bad Request\n",
      "INFO:     127.0.0.1:52865 - \"DELETE /mcp HTTP/1.1\" 400 Bad Request\n",
      "INFO:     127.0.0.1:52865 - \"POST /mcp HTTP/1.1\" 200 OK\n",
      "INFO:     127.0.0.1:52865 - \"POST /mcp HTTP/1.1\" 202 Accepted\n",
      "INFO:     127.0.0.1:52865 - \"GET /mcp HTTP/1.1\" 200 OK\n",
      "INFO:     127.0.0.1:52877 - \"POST /mcp HTTP/1.1\" 200 OK\n",
      "INFO:     127.0.0.1:52877 - \"POST /mcp HTTP/1.1\" 202 Accepted\n",
      "INFO:     127.0.0.1:52877 - \"GET /mcp HTTP/1.1\" 200 OK\n",
      "INFO:     127.0.0.1:52880 - \"POST /mcp HTTP/1.1\" 200 OK\n",
      "INFO:     127.0.0.1:52880 - \"POST /mcp HTTP/1.1\" 200 OK\n",
      "INFO:     127.0.0.1:52888 - \"POST /mcp HTTP/1.1\" 200 OK\n",
      "INFO:     127.0.0.1:52960 - \"POST /mcp HTTP/1.1\" 200 OK\n",
      "INFO:     127.0.0.1:52960 - \"POST /mcp HTTP/1.1\" 202 Accepted\n",
      "INFO:     127.0.0.1:52960 - \"POST /mcp HTTP/1.1\" 200 OK\n",
      "INFO:     127.0.0.1:52967 - \"POST /mcp HTTP/1.1\" 400 Bad Request\n",
      "INFO:     127.0.0.1:52967 - \"POST /mcp HTTP/1.1\" 200 OK\n",
      "INFO:     127.0.0.1:52967 - \"POST /mcp HTTP/1.1\" 202 Accepted\n",
      "INFO:     127.0.0.1:52967 - \"POST /mcp HTTP/1.1\" 200 OK\n",
      "INFO:     127.0.0.1:52979 - \"POST /mcp HTTP/1.1\" 200 OK\n",
      "INFO:     127.0.0.1:53047 - \"POST /mcp HTTP/1.1\" 200 OK\n",
      "INFO:     127.0.0.1:53095 - \"POST /mcp HTTP/1.1\" 200 OK\n",
      "INFO:     127.0.0.1:53277 - \"POST /mcp HTTP/1.1\" 200 OK\n",
      "INFO:     127.0.0.1:53277 - \"POST /mcp HTTP/1.1\" 202 Accepted\n",
      "INFO:     127.0.0.1:53277 - \"POST /mcp HTTP/1.1\" 200 OK\n",
      "INFO:     127.0.0.1:53378 - \"POST /mcp HTTP/1.1\" 200 OK\n"
     ]
    },
    {
     "name": "stderr",
     "output_type": "stream",
     "text": [
      "2025-10-14 16:45:04,566 ¦ instrmcp.servers.jupyter_qcodes.registrars.qcodes_tools ¦ ERROR ¦ qcodes_tools ¦ instrument_info ¦ 56 ¦ Error in qcodes_instrument_info: Instrument 'mock_dac1' not found in namespace\n"
     ]
    },
    {
     "name": "stdout",
     "output_type": "stream",
     "text": [
      "INFO:     127.0.0.1:53397 - \"POST /mcp HTTP/1.1\" 400 Bad Request\n",
      "INFO:     127.0.0.1:53397 - \"POST /mcp HTTP/1.1\" 200 OK\n",
      "INFO:     127.0.0.1:53397 - \"POST /mcp HTTP/1.1\" 202 Accepted\n",
      "INFO:     127.0.0.1:53397 - \"POST /mcp HTTP/1.1\" 200 OK\n",
      "INFO:     127.0.0.1:53403 - \"POST /mcp HTTP/1.1\" 200 OK\n",
      "INFO:     127.0.0.1:53426 - \"POST /mcp HTTP/1.1\" 200 OK\n",
      "INFO:     127.0.0.1:53433 - \"POST /mcp HTTP/1.1\" 200 OK\n",
      "INFO:     127.0.0.1:53487 - \"POST /mcp HTTP/1.1\" 200 OK\n"
     ]
    }
   ],
   "source": [
    "%mcp_start"
   ]
  },
  {
   "cell_type": "code",
   "execution_count": 9,
   "id": "971177b9-e8bb-4c7c-a096-2362897f3043",
   "metadata": {
    "scrolled": true
   },
   "outputs": [
    {
     "data": {
      "text/plain": [
       "2"
      ]
     },
     "execution_count": 9,
     "metadata": {},
     "output_type": "execute_result"
    }
   ],
   "source": [
    "# Sweep1D - Sweep mock_dac1 from 0 to 1 with step 0.01\n",
    "import os\n",
    "from MeasureIt.sweep1d import Sweep1D\n",
    "from MeasureIt.util import init_database\n",
    "\n",
    "# Configure sweep\n",
    "s = Sweep1D(\n",
    "    dac1.ch01.voltage,      # Parameter to sweep (mock_dac1 channel 1 voltage)\n",
    "    start=0.0,              # Start value\n",
    "    stop=1.0,               # Stop value\n",
    "    rate=0.1,               # Sweep rate: 0.1 V/s (gives step of 0.01 with inter_delay=0.1)\n",
    "    inter_delay=0.1,        # Delay between measurements (0.1s gives step of 0.01)\n",
    "    save_data=True,\n",
    "    bidirectional=False,    # One direction sweep\n",
    "    continual=False         # Stop after one sweep\n",
    ")\n",
    "\n",
    "# Set parameters to follow (add measurements you want to record)\n",
    "s.follow_param(\n",
    "    dac1.ch02.voltage,      # Example: follow channel 2 voltage\n",
    "    # Add more parameters as needed\n",
    ")\n",
    "\n",
    "# Initialize database\n",
    "database_name = \"measurements.db\"\n",
    "exp_name = \"dac_sweep\"\n",
    "sample_name = \"mock_dac1_sweep\"\n",
    "init_database(database_name, exp_name, sample_name, s)\n",
    "\n",
    "# Start sweep\n",
    "%gui qt\n",
    "s.start()\n",
    "\n",
    "# Control: Press ESC to stop, spacebar to reverse direction"
   ]
  },
  {
   "cell_type": "code",
   "execution_count": 13,
   "id": "a9d893f2-8dc2-4507-bc80-d53c3be2c804",
   "metadata": {},
   "outputs": [
    {
     "name": "stdout",
     "output_type": "stream",
     "text": [
      "Error checking VISA resources: Could not locate a VISA implementation. Install either the IVI binary or pyvisa-py.\n",
      "\n",
      "Available QCoDeS Instruments:\n",
      "  - mock_dac1: MockDAC\n",
      "  - mock_dac2: MockDAC\n"
     ]
    }
   ],
   "source": [
    "# Check VISA resources\n",
    "try:\n",
    "    import pyvisa\n",
    "    rm = pyvisa.ResourceManager()\n",
    "    resources = rm.list_resources()\n",
    "    print(\"Available VISA Resources:\")\n",
    "    for res in resources:\n",
    "        print(f\"  - {res}\")\n",
    "except Exception as e:\n",
    "    print(f\"Error checking VISA resources: {e}\")\n",
    "\n",
    "# Check QCoDeS instruments\n",
    "try:\n",
    "    import qcodes as qc\n",
    "    instruments = qc.Instrument._all_instruments\n",
    "    print(\"\\nAvailable QCoDeS Instruments:\")\n",
    "    if instruments:\n",
    "        for name, inst in instruments.items():\n",
    "            print(f\"  - {name}: {type(inst).__name__}\")\n",
    "    else:\n",
    "        print(\"  No instruments currently instantiated\")\n",
    "except Exception as e:\n",
    "    print(f\"Error checking QCoDeS instruments: {e}\")"
   ]
  },
  {
   "cell_type": "code",
   "execution_count": 11,
   "id": "de1a15df-fa09-444d-9f23-865c6c18c15f",
   "metadata": {},
   "outputs": [
    {
     "name": "stdout",
     "output_type": "stream",
     "text": [
      "Error checking VISA resources: Could not locate a VISA implementation. Install either the IVI binary or pyvisa-py.\n",
      "\n",
      "Available QCoDeS Instruments:\n",
      "  - mock_dac1: MockDAC\n",
      "  - mock_dac2: MockDAC\n"
     ]
    }
   ],
   "source": [
    "# Check VISA resources\n",
    "try:\n",
    "    import pyvisa\n",
    "    rm = pyvisa.ResourceManager()\n",
    "    resources = rm.list_resources()\n",
    "    print(\"Available VISA Resources:\")\n",
    "    for res in resources:\n",
    "        print(f\"  - {res}\")\n",
    "except Exception as e:\n",
    "    print(f\"Error checking VISA resources: {e}\")\n",
    "\n",
    "# Check QCoDeS instruments\n",
    "try:\n",
    "    import qcodes as qc\n",
    "    instruments = qc.Instrument._all_instruments\n",
    "    print(\"\\nAvailable QCoDeS Instruments:\")\n",
    "    if instruments:\n",
    "        for name, inst in instruments.items():\n",
    "            print(f\"  - {name}: {type(inst).__name__}\")\n",
    "    else:\n",
    "        print(\"  No instruments currently instantiated\")\n",
    "except Exception as e:\n",
    "    print(f\"Error checking QCoDeS instruments: {e}\")"
   ]
  },
  {
   "cell_type": "code",
   "execution_count": null,
   "id": "3f915160-dc53-408d-a008-d02f3b0c878c",
   "metadata": {},
   "outputs": [],
   "source": [
    "111"
   ]
  },
  {
   "cell_type": "code",
   "execution_count": null,
   "id": "9eda301b-2e60-4a87-8042-9d82a89b2cc5",
   "metadata": {},
   "outputs": [],
   "source": []
  },
  {
   "cell_type": "code",
   "execution_count": null,
   "id": "e1dc30ce-95ca-4191-a6ba-37ad51819895",
   "metadata": {},
   "outputs": [],
   "source": []
  }
 ],
 "metadata": {
  "kernelspec": {
   "display_name": "instrMCPdev",
   "language": "python",
   "name": "python3"
  },
  "language_info": {
   "codemirror_mode": {
    "name": "ipython",
    "version": 3
   },
   "file_extension": ".py",
   "mimetype": "text/x-python",
   "name": "python",
   "nbconvert_exporter": "python",
   "pygments_lexer": "ipython3",
   "version": "3.11.13"
  }
 },
 "nbformat": 4,
 "nbformat_minor": 5
}
