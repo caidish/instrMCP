{
 "cells": [
  {
   "cell_type": "code",
   "execution_count": 1,
   "id": "d184e5f4-507d-4947-b795-a75a3ae18c25",
   "metadata": {
    "scrolled": true
   },
   "outputs": [
    {
     "name": "stdout",
     "output_type": "stream",
     "text": [
      "Logging hadn't been started.\n",
      "Activating auto-logging. Current session state plus future input saved.\n",
      "Filename       : /Users/caijiaqi/.qcodes/logs/command_history.log\n",
      "Mode           : append\n",
      "Output logging : True\n",
      "Raw input log  : False\n",
      "Timestamping   : True\n",
      "State          : active\n",
      "Qcodes Logfile : /Users/caijiaqi/.qcodes/logs/250930-67292-qcodes.log\n"
     ]
    }
   ],
   "source": [
    "import qcodes as qc\n",
    "station = qc.Station(config_file='config/station.yaml')"
   ]
  },
  {
   "cell_type": "code",
   "execution_count": 2,
   "id": "8a44d3e9-223c-46bc-8ec2-e52475dc87a3",
   "metadata": {
    "scrolled": true
   },
   "outputs": [],
   "source": [
    "dac1 = station.load_mock_dac1()\n",
    "dac2 = station.load_mock_dac2()"
   ]
  },
  {
   "cell_type": "code",
   "execution_count": 3,
   "id": "5d9183db-f92d-4b8e-9b86-053b66f8fde1",
   "metadata": {},
   "outputs": [
    {
     "name": "stdout",
     "output_type": "stream",
     "text": [
      "✅ QCoDeS MCP extension loaded\n",
      "🛡️  Default mode: safe\n",
      "📋 Use %mcp_status to check server status\n",
      "⚠️  Use %mcp_unsafe to switch to unsafe mode (if needed)\n",
      "🚀 Use %mcp_start to start the server\n"
     ]
    }
   ],
   "source": [
    "%load_ext instrmcp.extensions"
   ]
  },
  {
   "cell_type": "code",
   "execution_count": 4,
   "id": "c4dd8645-506c-4560-a850-b4f864da1620",
   "metadata": {
    "scrolled": true
   },
   "outputs": [
    {
     "name": "stdout",
     "output_type": "stream",
     "text": [
      "🛡️ MCP Server Status:\n",
      "   Desired Mode: safe\n",
      "   Server Instance: ❌ Not created yet\n",
      "   Available: %mcp_start\n"
     ]
    }
   ],
   "source": [
    "%mcp_status"
   ]
  },
  {
   "cell_type": "code",
   "execution_count": 5,
   "id": "6a069a25-0b50-4280-b7f4-7fedcfe9b4f1",
   "metadata": {},
   "outputs": [
    {
     "name": "stdout",
     "output_type": "stream",
     "text": [
      "✅ Added: measureit\n",
      "✅ Added: database\n",
      "✅ Changes will take effect when server starts\n"
     ]
    }
   ],
   "source": [
    "%mcp_option add measureit database"
   ]
  },
  {
   "cell_type": "code",
   "execution_count": 6,
   "id": "c5d5e22e-f7a0-481e-aa3d-617c10a43cdd",
   "metadata": {},
   "outputs": [
    {
     "name": "stdout",
     "output_type": "stream",
     "text": [
      "⚠️  Mode set to unsafe\n",
      "⚠️  UNSAFE MODE: execute_editing_cell tool will be available\n",
      "✅ Mode will take effect when server starts\n"
     ]
    }
   ],
   "source": [
    "%mcp_unsafe"
   ]
  },
  {
   "cell_type": "code",
   "execution_count": 7,
   "id": "95dde381-dd66-4475-9a7a-aaeb9f1aa7b4",
   "metadata": {
    "scrolled": true
   },
   "outputs": [
    {
     "name": "stdout",
     "output_type": "stream",
     "text": [
      "🚀 Starting MCP server...\n",
      "🚀 QCoDeS MCP Server running on http://127.0.0.1:8123\n",
      "🔑 Access token: yycGjHjJGbd-qoYA-3JraX2x21AGKM7G7-_YOuQcXV4\n"
     ]
    },
    {
     "name": "stderr",
     "output_type": "stream",
     "text": [
      "2025-09-30 12:26:28,352 ¦ py.warnings ¦ WARNING ¦ warnings ¦ _showwarnmsg ¦ 110 ¦ /Users/caijiaqi/miniforge3/envs/instrMCPdev/lib/python3.11/site-packages/websockets/legacy/__init__.py:6: DeprecationWarning: websockets.legacy is deprecated; see https://websockets.readthedocs.io/en/stable/howto/upgrade.html for upgrade instructions\n",
      "  warnings.warn(  # deprecated in 14.0 - 2024-11-09\n",
      "\n",
      "2025-09-30 12:26:28,358 ¦ py.warnings ¦ WARNING ¦ warnings ¦ _showwarnmsg ¦ 110 ¦ /Users/caijiaqi/miniforge3/envs/instrMCPdev/lib/python3.11/site-packages/uvicorn/protocols/websockets/websockets_impl.py:17: DeprecationWarning: websockets.server.WebSocketServerProtocol is deprecated\n",
      "  from websockets.server import WebSocketServerProtocol\n",
      "\n",
      "INFO:     Started server process [67292]\n",
      "INFO:     Waiting for application startup.\n",
      "INFO:     Application startup complete.\n",
      "INFO:     Uvicorn running on http://127.0.0.1:8123 (Press CTRL+C to quit)\n"
     ]
    },
    {
     "name": "stdout",
     "output_type": "stream",
     "text": [
      "✅ MCP server started in ⚠️ unsafe mode\n",
      "⚠️  UNSAFE MODE: execute_editing_cell tool is available\n",
      "INFO:     127.0.0.1:56949 - \"POST /mcp HTTP/1.1\" 200 OK\n",
      "INFO:     127.0.0.1:56949 - \"POST /mcp HTTP/1.1\" 202 Accepted\n",
      "INFO:     127.0.0.1:56949 - \"POST /mcp HTTP/1.1\" 200 OK\n",
      "INFO:     127.0.0.1:57284 - \"POST /mcp HTTP/1.1\" 400 Bad Request\n",
      "INFO:     127.0.0.1:57284 - \"POST /mcp HTTP/1.1\" 200 OK\n",
      "INFO:     127.0.0.1:57284 - \"POST /mcp HTTP/1.1\" 202 Accepted\n",
      "INFO:     127.0.0.1:57284 - \"POST /mcp HTTP/1.1\" 200 OK\n",
      "INFO:     127.0.0.1:57339 - \"POST /mcp HTTP/1.1\" 200 OK\n",
      "INFO:     127.0.0.1:57387 - \"POST /mcp HTTP/1.1\" 200 OK\n",
      "INFO:     127.0.0.1:57438 - \"POST /mcp HTTP/1.1\" 200 OK\n",
      "INFO:     127.0.0.1:57515 - \"POST /mcp HTTP/1.1\" 200 OK\n",
      "INFO:     127.0.0.1:57564 - \"POST /mcp HTTP/1.1\" 200 OK\n",
      "INFO:     127.0.0.1:57638 - \"POST /mcp HTTP/1.1\" 200 OK\n",
      "INFO:     127.0.0.1:57718 - \"POST /mcp HTTP/1.1\" 200 OK\n",
      "INFO:     127.0.0.1:57807 - \"POST /mcp HTTP/1.1\" 200 OK\n",
      "INFO:     127.0.0.1:57918 - \"POST /mcp HTTP/1.1\" 200 OK\n",
      "INFO:     127.0.0.1:57983 - \"POST /mcp HTTP/1.1\" 200 OK\n",
      "INFO:     127.0.0.1:58098 - \"POST /mcp HTTP/1.1\" 200 OK\n",
      "INFO:     127.0.0.1:58231 - \"POST /mcp HTTP/1.1\" 200 OK\n",
      "INFO:     127.0.0.1:58392 - \"POST /mcp HTTP/1.1\" 200 OK\n",
      "INFO:     127.0.0.1:58435 - \"POST /mcp HTTP/1.1\" 200 OK\n"
     ]
    },
    {
     "name": "stderr",
     "output_type": "stream",
     "text": [
      "2025-09-30 12:32:04,343 ¦ instrmcp.servers.jupyter_qcodes.registrars.qcodes_tools ¦ ERROR ¦ qcodes_tools ¦ instrument_info ¦ 50 ¦ Error in qcodes_instrument_info: Instrument 'test' not found in namespace\n"
     ]
    },
    {
     "name": "stdout",
     "output_type": "stream",
     "text": [
      "INFO:     127.0.0.1:58599 - \"POST /mcp HTTP/1.1\" 200 OK\n",
      "INFO:     127.0.0.1:58812 - \"POST /mcp HTTP/1.1\" 200 OK\n",
      "INFO:     127.0.0.1:59993 - \"POST /mcp HTTP/1.1\" 200 OK\n",
      "INFO:     127.0.0.1:59993 - \"POST /mcp HTTP/1.1\" 202 Accepted\n",
      "INFO:     127.0.0.1:59994 - \"POST /mcp HTTP/1.1\" 200 OK\n",
      "INFO:     127.0.0.1:59993 - \"POST /mcp HTTP/1.1\" 200 OK\n",
      "INFO:     127.0.0.1:59994 - \"POST /mcp HTTP/1.1\" 202 Accepted\n",
      "INFO:     127.0.0.1:59994 - \"POST /mcp HTTP/1.1\" 200 OK\n",
      "INFO:     127.0.0.1:49184 - \"POST /mcp HTTP/1.1\" 200 OK\n",
      "INFO:     127.0.0.1:49223 - \"POST /mcp HTTP/1.1\" 200 OK\n",
      "INFO:     127.0.0.1:49223 - \"POST /mcp HTTP/1.1\" 200 OK\n",
      "INFO:     127.0.0.1:64823 - \"POST /mcp HTTP/1.1\" 200 OK\n",
      "INFO:     127.0.0.1:64823 - \"POST /mcp HTTP/1.1\" 200 OK\n",
      "INFO:     127.0.0.1:64866 - \"POST /mcp HTTP/1.1\" 200 OK\n",
      "INFO:     127.0.0.1:64866 - \"POST /mcp HTTP/1.1\" 200 OK\n",
      "INFO:     127.0.0.1:65476 - \"POST /mcp HTTP/1.1\" 200 OK\n",
      "INFO:     127.0.0.1:49600 - \"POST /mcp HTTP/1.1\" 200 OK\n",
      "INFO:     127.0.0.1:52244 - \"POST /mcp HTTP/1.1\" 200 OK\n",
      "INFO:     127.0.0.1:52244 - \"POST /mcp HTTP/1.1\" 202 Accepted\n",
      "INFO:     127.0.0.1:52244 - \"GET /mcp HTTP/1.1\" 200 OK\n",
      "INFO:     127.0.0.1:52276 - \"POST /mcp HTTP/1.1\" 200 OK\n",
      "INFO:     127.0.0.1:52276 - \"POST /mcp HTTP/1.1\" 200 OK\n",
      "INFO:     127.0.0.1:52325 - \"POST /mcp HTTP/1.1\" 200 OK\n"
     ]
    },
    {
     "name": "stderr",
     "output_type": "stream",
     "text": [
      "2025-09-30 16:15:28,151 ¦ instrmcp.servers.jupyter_qcodes.registrars.resources ¦ ERROR ¦ resources ¦ station_state ¦ 100 ¦ Error generating station_state resource: 'QCodesReadOnlyTools' object has no attribute 'get_station_snapshot'\n"
     ]
    },
    {
     "name": "stdout",
     "output_type": "stream",
     "text": [
      "INFO:     127.0.0.1:52325 - \"POST /mcp HTTP/1.1\" 200 OK\n",
      "INFO:     127.0.0.1:52385 - \"POST /mcp HTTP/1.1\" 200 OK\n"
     ]
    }
   ],
   "source": [
    "%mcp_start"
   ]
  },
  {
   "cell_type": "code",
   "execution_count": null,
   "id": "eda0dce7-0e9f-4da5-9c4f-6d4a307f03eb",
   "metadata": {},
   "outputs": [],
   "source": []
  },
  {
   "cell_type": "code",
   "execution_count": 9,
   "id": "0074cde7-d9c0-467b-8784-231bb3342423",
   "metadata": {},
   "outputs": [
    {
     "ename": "ModuleNotFoundError",
     "evalue": "No module named 'MeasureIt'",
     "output_type": "error",
     "traceback": [
      "\u001b[31m---------------------------------------------------------------------------\u001b[39m",
      "\u001b[31mModuleNotFoundError\u001b[39m                       Traceback (most recent call last)",
      "\u001b[36mCell\u001b[39m\u001b[36m \u001b[39m\u001b[32mIn[9]\u001b[39m\u001b[32m, line 1\u001b[39m\n\u001b[32m----> \u001b[39m\u001b[32m1\u001b[39m \u001b[38;5;28;01mfrom\u001b[39;00m\u001b[38;5;250m \u001b[39m\u001b[34;01mMeasureIt\u001b[39;00m\u001b[38;5;250m \u001b[39m\u001b[38;5;28;01mimport\u001b[39;00m Sweep1D\n\u001b[32m      3\u001b[39m \u001b[38;5;66;03m# Create a 1D sweep for dac1 channel 1 voltage\u001b[39;00m\n\u001b[32m      4\u001b[39m sweep = Sweep1D(\n\u001b[32m      5\u001b[39m     dac1.ch01.voltage,  \u001b[38;5;66;03m# Parameter to sweep\u001b[39;00m\n\u001b[32m      6\u001b[39m     -\u001b[32m5\u001b[39m,  \u001b[38;5;66;03m# Start voltage (V)\u001b[39;00m\n\u001b[32m   (...)\u001b[39m\u001b[32m     11\u001b[39m     plot_data=\u001b[38;5;28;01mTrue\u001b[39;00m\n\u001b[32m     12\u001b[39m )\n",
      "\u001b[31mModuleNotFoundError\u001b[39m: No module named 'MeasureIt'"
     ]
    }
   ],
   "source": [
    "from MeasureIt import Sweep1D\n",
    "\n",
    "# Create a 1D sweep for dac1 channel 1 voltage\n",
    "sweep = Sweep1D(\n",
    "    dac1.ch01.voltage,  # Parameter to sweep\n",
    "    -5,  # Start voltage (V)\n",
    "    5,   # Stop voltage (V)\n",
    "    0.1, # Step size (V)\n",
    "    inter_delay=0.05,  # Delay between measurements (s)\n",
    "    save_data=True,\n",
    "    plot_data=True\n",
    ")\n",
    "\n",
    "# You can add follow parameters to measure during the sweep\n",
    "# For example, if you have other instruments:\n",
    "# sweep.follow_param(other_instrument.parameter)\n",
    "\n",
    "print(\"Sweep1D created for dac1.ch01.voltage\")\n",
    "print(f\"Sweep range: -5V to 5V with step 0.1V\")\n",
    "print(f\"Total points: {int((5 - (-5)) / 0.1) + 1}\")\n"
   ]
  },
  {
   "cell_type": "code",
   "execution_count": 8,
   "id": "515b072a-6422-4519-8829-5a74693fa27e",
   "metadata": {},
   "outputs": [],
   "source": [
    "# Patched test cell"
   ]
  },
  {
   "cell_type": "code",
   "execution_count": null,
   "id": "9ab87ab1-5bf0-477f-8590-367efa2b79b5",
   "metadata": {},
   "outputs": [],
   "source": [
    "  "
   ]
  },
  {
   "cell_type": "code",
   "execution_count": null,
   "id": "c51a66bc-42d7-4d8a-8fb0-58cebef24308",
   "metadata": {},
   "outputs": [],
   "source": []
  }
 ],
 "metadata": {
  "kernelspec": {
   "display_name": "Python 3 (ipykernel)",
   "language": "python",
   "name": "python3"
  },
  "language_info": {
   "codemirror_mode": {
    "name": "ipython",
    "version": 3
   },
   "file_extension": ".py",
   "mimetype": "text/x-python",
   "name": "python",
   "nbconvert_exporter": "python",
   "pygments_lexer": "ipython3",
   "version": "3.11.13"
  }
 },
 "nbformat": 4,
 "nbformat_minor": 5
}
