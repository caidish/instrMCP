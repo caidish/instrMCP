{
 "cells": [
  {
   "cell_type": "code",
   "execution_count": 1,
   "id": "d184e5f4-507d-4947-b795-a75a3ae18c25",
   "metadata": {
    "scrolled": true
   },
   "outputs": [],
   "source": [
    "import qcodes as qc\n",
    "station = qc.Station(config_file='config/station.yaml')"
   ]
  },
  {
   "cell_type": "code",
   "execution_count": 2,
   "id": "8a44d3e9-223c-46bc-8ec2-e52475dc87a3",
   "metadata": {},
   "outputs": [
    {
     "name": "stderr",
     "output_type": "stream",
     "text": [
      "2025-09-07 14:10:32,281 - servers.jupyter_qcodes.tests.data_loader - INFO - Loading data from /Users/caijiaqi/Documents/GitHub/instrMCP/servers/jupyter_qcodes/tests/data_file/MoTe2QAHE/processed_data.mat\n",
      "2025-09-07 14:10:32,306 - servers.jupyter_qcodes.tests.data_loader - INFO - Data validation passed: Vtg(220), Vbg(900), lockin arrays(900x220)\n",
      "2025-09-07 14:10:32,306 - servers.jupyter_qcodes.tests.data_loader - INFO - Data loaded and validated successfully\n",
      "2025-09-07 14:10:32,306 - servers.jupyter_qcodes.tests.test_instr.general_test_instrument - INFO - Data loaded from /Users/caijiaqi/Documents/GitHub/instrMCP/servers/jupyter_qcodes/tests/data_file/MoTe2QAHE/processed_data.mat\n",
      "2025-09-07 14:10:32,307 - servers.jupyter_qcodes.tests.test_instr.general_test_instrument - INFO - General test instrument 'mote2_general' initialized from ${instrMCP_PATH}/servers/jupyter_qcodes/tests/data_file/MoTe2QAHE/MoTe2Para.json (expanded: /Users/caijiaqi/Documents/GitHub/instrMCP/servers/jupyter_qcodes/tests/data_file/MoTe2QAHE/MoTe2Para.json)\n"
     ]
    }
   ],
   "source": [
    "dac1 = station.load_mock_dac1()\n",
    "dac2 = station.load_mock_dac2()\n",
    "mote2general = station.load_mote2_general()"
   ]
  },
  {
   "cell_type": "code",
   "execution_count": 3,
   "id": "f9bcc747-a532-4a31-848d-d7b055233442",
   "metadata": {},
   "outputs": [
    {
     "name": "stderr",
     "output_type": "stream",
     "text": [
      "2025-09-07 14:10:53,067 - servers.jupyter_qcodes.jupyter_mcp_extension - INFO - Loading Jupyter QCoDeS MCP extension...\n",
      "2025-09-07 14:10:53,074 - servers.jupyter_qcodes.active_cell_bridge - INFO - Registered comm target 'mcp:active_cell'\n",
      "2025-09-07 14:10:53,076 - servers.jupyter_qcodes.tools - INFO - QCoDesReadOnlyTools initialized\n",
      "2025-09-07 14:10:53,094 - servers.jupyter_qcodes.mcp_server - INFO - Jupyter MCP Server initialized on 127.0.0.1:8123\n",
      "2025-09-07 14:10:53,094 - servers.jupyter_qcodes.jupyter_mcp_extension - INFO - Jupyter QCoDeS MCP extension loaded successfully\n"
     ]
    },
    {
     "name": "stdout",
     "output_type": "stream",
     "text": [
      "🚀 QCoDeS MCP Server starting...\n"
     ]
    },
    {
     "name": "stderr",
     "output_type": "stream",
     "text": [
      "2025-09-07 14:10:53,096 - servers.jupyter_qcodes.mcp_server - INFO - Starting Jupyter MCP server on 127.0.0.1:8123\n"
     ]
    },
    {
     "name": "stdout",
     "output_type": "stream",
     "text": [
      "🚀 QCoDeS MCP Server running on http://127.0.0.1:8123\n",
      "🔑 Access token: PklodMm_tKFAnHs8eCobghe3fe4sLT1EfYuN91fbKa8\n"
     ]
    },
    {
     "name": "stderr",
     "output_type": "stream",
     "text": [
      "\n",
      "\n",
      "\u001b[2m╭────────────────────────────────────────────────────────────────────────────╮\u001b[0m\n",
      "\u001b[2m│\u001b[0m                                                                            \u001b[2m│\u001b[0m\n",
      "\u001b[2m│\u001b[0m    \u001b[1;32m    _ __ ___  _____           __  __  _____________    ____    ____ \u001b[0m    \u001b[2m│\u001b[0m\n",
      "\u001b[2m│\u001b[0m    \u001b[1;32m   _ __ ___ .'____/___ ______/ /_/  |/  / ____/ __ \\  |___ \\  / __ \\\u001b[0m    \u001b[2m│\u001b[0m\n",
      "\u001b[2m│\u001b[0m    \u001b[1;32m  _ __ ___ / /_  / __ `/ ___/ __/ /|_/ / /   / /_/ /  ___/ / / / / /\u001b[0m    \u001b[2m│\u001b[0m\n",
      "\u001b[2m│\u001b[0m    \u001b[1;32m _ __ ___ / __/ / /_/ (__  ) /_/ /  / / /___/ ____/  /  __/_/ /_/ / \u001b[0m    \u001b[2m│\u001b[0m\n",
      "\u001b[2m│\u001b[0m    \u001b[1;32m_ __ ___ /_/    \\____/____/\\__/_/  /_/\\____/_/      /_____(*)____/  \u001b[0m    \u001b[2m│\u001b[0m\n",
      "\u001b[2m│\u001b[0m                                                                            \u001b[2m│\u001b[0m\n",
      "\u001b[2m│\u001b[0m                                                                            \u001b[2m│\u001b[0m\n",
      "\u001b[2m│\u001b[0m                                \u001b[1;34mFastMCP  2.0\u001b[0m                                \u001b[2m│\u001b[0m\n",
      "\u001b[2m│\u001b[0m                                                                            \u001b[2m│\u001b[0m\n",
      "\u001b[2m│\u001b[0m                                                                            \u001b[2m│\u001b[0m\n",
      "\u001b[2m│\u001b[0m               \u001b[1m🖥️ \u001b[0m\u001b[1m \u001b[0m\u001b[36mServer name:    \u001b[0m\u001b[36m \u001b[0m\u001b[2mJupyter QCoDeS MCP Server\u001b[0m                \u001b[2m│\u001b[0m\n",
      "\u001b[2m│\u001b[0m               \u001b[1m📦\u001b[0m\u001b[1m \u001b[0m\u001b[36mTransport:      \u001b[0m\u001b[36m \u001b[0m\u001b[2mStreamable-HTTP          \u001b[0m                \u001b[2m│\u001b[0m\n",
      "\u001b[2m│\u001b[0m               \u001b[1m🔗\u001b[0m\u001b[1m \u001b[0m\u001b[36mServer URL:     \u001b[0m\u001b[36m \u001b[0m\u001b[2mhttp://127.0.0.1:8123/mcp\u001b[0m                \u001b[2m│\u001b[0m\n",
      "\u001b[2m│\u001b[0m               \u001b[1m  \u001b[0m\u001b[1m \u001b[0m\u001b[36m                \u001b[0m\u001b[36m \u001b[0m\u001b[2m                         \u001b[0m                \u001b[2m│\u001b[0m\n",
      "\u001b[2m│\u001b[0m               \u001b[1m🏎️ \u001b[0m\u001b[1m \u001b[0m\u001b[36mFastMCP version:\u001b[0m\u001b[36m \u001b[0m\u001b[2;37m2.12.2                   \u001b[0m                \u001b[2m│\u001b[0m\n",
      "\u001b[2m│\u001b[0m               \u001b[1m🤝\u001b[0m\u001b[1m \u001b[0m\u001b[36mMCP SDK version:\u001b[0m\u001b[36m \u001b[0m\u001b[2;37m1.13.1                   \u001b[0m                \u001b[2m│\u001b[0m\n",
      "\u001b[2m│\u001b[0m               \u001b[1m  \u001b[0m\u001b[1m \u001b[0m\u001b[36m                \u001b[0m\u001b[36m \u001b[0m\u001b[2m                         \u001b[0m                \u001b[2m│\u001b[0m\n",
      "\u001b[2m│\u001b[0m               \u001b[1m📚\u001b[0m\u001b[1m \u001b[0m\u001b[36mDocs:           \u001b[0m\u001b[36m \u001b[0m\u001b[2mhttps://gofastmcp.com    \u001b[0m                \u001b[2m│\u001b[0m\n",
      "\u001b[2m│\u001b[0m               \u001b[1m🚀\u001b[0m\u001b[1m \u001b[0m\u001b[36mDeploy:         \u001b[0m\u001b[36m \u001b[0m\u001b[2mhttps://fastmcp.cloud    \u001b[0m                \u001b[2m│\u001b[0m\n",
      "\u001b[2m│\u001b[0m                                                                            \u001b[2m│\u001b[0m\n",
      "\u001b[2m╰────────────────────────────────────────────────────────────────────────────╯\u001b[0m\n",
      "\n",
      "\n",
      "/Users/caijiaqi/Documents/GitHub/instrMCP/venv/lib/python3.10/site-packages/websockets/legacy/__init__.py:6: DeprecationWarning: websockets.legacy is deprecated; see https://websockets.readthedocs.io/en/stable/howto/upgrade.html for upgrade instructions\n",
      "  warnings.warn(  # deprecated in 14.0 - 2024-11-09\n",
      "/Users/caijiaqi/Documents/GitHub/instrMCP/venv/lib/python3.10/site-packages/uvicorn/protocols/websockets/websockets_impl.py:17: DeprecationWarning: websockets.server.WebSocketServerProtocol is deprecated\n",
      "  from websockets.server import WebSocketServerProtocol\n",
      "INFO:     Started server process [59034]\n",
      "INFO:     Waiting for application startup.\n",
      "2025-09-07 14:10:53,139 - mcp.server.streamable_http_manager - INFO - StreamableHTTP session manager started\n",
      "INFO:     Application startup complete.\n",
      "INFO:     Uvicorn running on http://127.0.0.1:8123 (Press CTRL+C to quit)\n",
      "2025-09-07 14:11:16,546 - mcp.server.streamable_http_manager - INFO - Created new transport with session ID: 6684a97270814b1fbe7c786266f4a395\n"
     ]
    },
    {
     "name": "stdout",
     "output_type": "stream",
     "text": [
      "INFO:     127.0.0.1:52663 - \"POST /mcp HTTP/1.1\" 200 OK\n",
      "INFO:     127.0.0.1:52663 - \"POST /mcp HTTP/1.1\" 202 Accepted\n",
      "INFO:     127.0.0.1:52666 - \"GET /mcp HTTP/1.1\" 200 OK\n",
      "INFO:     127.0.0.1:52663 - \"POST /mcp HTTP/1.1\" 200 OK\n"
     ]
    },
    {
     "name": "stderr",
     "output_type": "stream",
     "text": [
      "2025-09-07 14:11:18,670 - mcp.server.lowlevel.server - INFO - Processing request of type ListToolsRequest\n"
     ]
    },
    {
     "name": "stdout",
     "output_type": "stream",
     "text": [
      "INFO:     127.0.0.1:52663 - \"POST /mcp HTTP/1.1\" 200 OK\n"
     ]
    },
    {
     "name": "stderr",
     "output_type": "stream",
     "text": [
      "2025-09-07 14:11:21,940 - mcp.server.lowlevel.server - INFO - Processing request of type CallToolRequest\n"
     ]
    },
    {
     "name": "stdout",
     "output_type": "stream",
     "text": [
      "INFO:     127.0.0.1:52782 - \"POST /mcp HTTP/1.1\" 200 OK\n"
     ]
    },
    {
     "name": "stderr",
     "output_type": "stream",
     "text": [
      "2025-09-07 14:12:51,509 - mcp.server.lowlevel.server - INFO - Processing request of type CallToolRequest\n"
     ]
    },
    {
     "name": "stdout",
     "output_type": "stream",
     "text": [
      "INFO:     127.0.0.1:52798 - \"POST /mcp HTTP/1.1\" 200 OK\n"
     ]
    },
    {
     "name": "stderr",
     "output_type": "stream",
     "text": [
      "2025-09-07 14:13:09,270 - mcp.server.lowlevel.server - INFO - Processing request of type CallToolRequest\n",
      "2025-09-07 14:13:09,282 - servers.jupyter_qcodes.cache - INFO - Unsubscribed from dac1.ch01.voltage\n",
      "2025-09-07 14:13:09,283 - servers.jupyter_qcodes.cache - INFO - Subscribed to dac1.ch01.voltage at 1.0s interval\n",
      "/Users/caijiaqi/Documents/GitHub/instrMCP/servers/jupyter_qcodes/cache.py:31: RuntimeWarning: coroutine 'QCodesReadOnlyTools.subscribe_parameter.<locals>.get_param_func' was never awaited\n",
      "  self.data[key] = (value, timestamp)\n",
      "RuntimeWarning: Enable tracemalloc to get the object allocation traceback\n"
     ]
    },
    {
     "name": "stdout",
     "output_type": "stream",
     "text": [
      "INFO:     127.0.0.1:52804 - \"POST /mcp HTTP/1.1\" 200 OK\n"
     ]
    },
    {
     "name": "stderr",
     "output_type": "stream",
     "text": [
      "2025-09-07 14:13:13,909 - mcp.server.lowlevel.server - INFO - Processing request of type CallToolRequest\n",
      "/Users/caijiaqi/Documents/GitHub/instrMCP/servers/jupyter_qcodes/cache.py:31: RuntimeWarning: coroutine 'QCodesReadOnlyTools.subscribe_parameter.<locals>.get_param_func' was never awaited\n",
      "  self.data[key] = (value, timestamp)\n",
      "RuntimeWarning: Enable tracemalloc to get the object allocation traceback\n"
     ]
    },
    {
     "name": "stdout",
     "output_type": "stream",
     "text": [
      "INFO:     127.0.0.1:52804 - \"POST /mcp HTTP/1.1\" 200 OK\n"
     ]
    },
    {
     "name": "stderr",
     "output_type": "stream",
     "text": [
      "2025-09-07 14:13:17,216 - mcp.server.lowlevel.server - INFO - Processing request of type CallToolRequest\n",
      "/Users/caijiaqi/Documents/GitHub/instrMCP/servers/jupyter_qcodes/cache.py:31: RuntimeWarning: coroutine 'QCodesReadOnlyTools.subscribe_parameter.<locals>.get_param_func' was never awaited\n",
      "  self.data[key] = (value, timestamp)\n",
      "RuntimeWarning: Enable tracemalloc to get the object allocation traceback\n"
     ]
    },
    {
     "name": "stdout",
     "output_type": "stream",
     "text": [
      "INFO:     127.0.0.1:52804 - \"POST /mcp HTTP/1.1\" 200 OK\n"
     ]
    },
    {
     "name": "stderr",
     "output_type": "stream",
     "text": [
      "2025-09-07 14:13:17,963 - mcp.server.lowlevel.server - INFO - Processing request of type CallToolRequest\n",
      "/Users/caijiaqi/Documents/GitHub/instrMCP/servers/jupyter_qcodes/cache.py:31: RuntimeWarning: coroutine 'QCodesReadOnlyTools.subscribe_parameter.<locals>.get_param_func' was never awaited\n",
      "  self.data[key] = (value, timestamp)\n",
      "RuntimeWarning: Enable tracemalloc to get the object allocation traceback\n"
     ]
    },
    {
     "name": "stdout",
     "output_type": "stream",
     "text": [
      "INFO:     127.0.0.1:52804 - \"POST /mcp HTTP/1.1\" 200 OK\n"
     ]
    },
    {
     "name": "stderr",
     "output_type": "stream",
     "text": [
      "2025-09-07 14:13:18,529 - mcp.server.lowlevel.server - INFO - Processing request of type CallToolRequest\n",
      "/Users/caijiaqi/Documents/GitHub/instrMCP/servers/jupyter_qcodes/cache.py:31: RuntimeWarning: coroutine 'QCodesReadOnlyTools.subscribe_parameter.<locals>.get_param_func' was never awaited\n",
      "  self.data[key] = (value, timestamp)\n",
      "RuntimeWarning: Enable tracemalloc to get the object allocation traceback\n"
     ]
    }
   ],
   "source": [
    "%load_ext servers.jupyter_qcodes.jupyter_mcp_extension"
   ]
  },
  {
   "cell_type": "code",
   "execution_count": null,
   "id": "c4dd8645-506c-4560-a850-b4f864da1620",
   "metadata": {},
   "outputs": [],
   "source": [
    "test\n"
   ]
  }
 ],
 "metadata": {
  "kernelspec": {
   "display_name": "Python 3 (ipykernel)",
   "language": "python",
   "name": "python3"
  },
  "language_info": {
   "codemirror_mode": {
    "name": "ipython",
    "version": 3
   },
   "file_extension": ".py",
   "mimetype": "text/x-python",
   "name": "python",
   "nbconvert_exporter": "python",
   "pygments_lexer": "ipython3",
   "version": "3.10.14"
  }
 },
 "nbformat": 4,
 "nbformat_minor": 5
}
