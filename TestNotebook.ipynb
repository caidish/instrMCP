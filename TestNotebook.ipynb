{
 "cells": [
  {
   "cell_type": "code",
   "execution_count": 1,
   "id": "d184e5f4-507d-4947-b795-a75a3ae18c25",
   "metadata": {
    "scrolled": true
   },
   "outputs": [
    {
     "name": "stdout",
     "output_type": "stream",
     "text": [
      "Logging hadn't been started.\n",
      "Activating auto-logging. Current session state plus future input saved.\n",
      "Filename       : /Users/caijiaqi/.qcodes/logs/command_history.log\n",
      "Mode           : append\n",
      "Output logging : True\n",
      "Raw input log  : False\n",
      "Timestamping   : True\n",
      "State          : active\n",
      "Qcodes Logfile : /Users/caijiaqi/.qcodes/logs/250906-73690-qcodes.log\n"
     ]
    }
   ],
   "source": [
    "import qcodes as qc\n",
    "station = qc.Station(config_file='config/station.yaml')"
   ]
  },
  {
   "cell_type": "code",
   "execution_count": 2,
   "id": "8a44d3e9-223c-46bc-8ec2-e52475dc87a3",
   "metadata": {},
   "outputs": [],
   "source": [
    "instr_mote2 = station.load_mote2_qahe()\n",
    "dac1 = station.load_mock_dac1()\n",
    "dac2 = station.load_mock_dac2()\n",
    "mote2general = station.load_mote2_general()"
   ]
  },
  {
   "cell_type": "code",
   "execution_count": 17,
   "id": "77a1535a-27b1-4f5a-b417-60b9bc4ab5e5",
   "metadata": {
    "scrolled": true
   },
   "outputs": [],
   "source": [
    "instr_mote2.Vbg(0)"
   ]
  },
  {
   "cell_type": "code",
   "execution_count": 3,
   "id": "257e5c75-0068-4e33-a159-ffcb565b5aed",
   "metadata": {},
   "outputs": [
    {
     "data": {
      "text/plain": [
       "<GeneralTestInstrument: mote2_general>"
      ]
     },
     "execution_count": 3,
     "metadata": {},
     "output_type": "execute_result"
    }
   ],
   "source": []
  },
  {
   "cell_type": "code",
   "execution_count": 11,
   "id": "f9bcc747-a532-4a31-848d-d7b055233442",
   "metadata": {},
   "outputs": [
    {
     "name": "stdout",
     "output_type": "stream",
     "text": [
      "🚀 QCoDeS MCP Server starting...\n",
      "🚀 QCoDeS MCP Server running on http://127.0.0.1:8123\n",
      "🔑 Access token: ADrv0Pt7U630sLAQU275Cb3-zHD8tLNDER33YDuCN_M\n"
     ]
    },
    {
     "name": "stderr",
     "output_type": "stream",
     "text": [
      "\n",
      "\n",
      "\u001b[2m╭────────────────────────────────────────────────────────────────────────────╮\u001b[0m\n",
      "\u001b[2m│\u001b[0m                                                                            \u001b[2m│\u001b[0m\n",
      "\u001b[2m│\u001b[0m    \u001b[1;32m    _ __ ___  _____           __  __  _____________    ____    ____ \u001b[0m    \u001b[2m│\u001b[0m\n",
      "\u001b[2m│\u001b[0m    \u001b[1;32m   _ __ ___ .'____/___ ______/ /_/  |/  / ____/ __ \\  |___ \\  / __ \\\u001b[0m    \u001b[2m│\u001b[0m\n",
      "\u001b[2m│\u001b[0m    \u001b[1;32m  _ __ ___ / /_  / __ `/ ___/ __/ /|_/ / /   / /_/ /  ___/ / / / / /\u001b[0m    \u001b[2m│\u001b[0m\n",
      "\u001b[2m│\u001b[0m    \u001b[1;32m _ __ ___ / __/ / /_/ (__  ) /_/ /  / / /___/ ____/  /  __/_/ /_/ / \u001b[0m    \u001b[2m│\u001b[0m\n",
      "\u001b[2m│\u001b[0m    \u001b[1;32m_ __ ___ /_/    \\____/____/\\__/_/  /_/\\____/_/      /_____(*)____/  \u001b[0m    \u001b[2m│\u001b[0m\n",
      "\u001b[2m│\u001b[0m                                                                            \u001b[2m│\u001b[0m\n",
      "\u001b[2m│\u001b[0m                                                                            \u001b[2m│\u001b[0m\n",
      "\u001b[2m│\u001b[0m                                \u001b[1;34mFastMCP  2.0\u001b[0m                                \u001b[2m│\u001b[0m\n",
      "\u001b[2m│\u001b[0m                                                                            \u001b[2m│\u001b[0m\n",
      "\u001b[2m│\u001b[0m                                                                            \u001b[2m│\u001b[0m\n",
      "\u001b[2m│\u001b[0m               \u001b[1m🖥️ \u001b[0m\u001b[1m \u001b[0m\u001b[36mServer name:    \u001b[0m\u001b[36m \u001b[0m\u001b[2mJupyter QCoDeS MCP Server\u001b[0m                \u001b[2m│\u001b[0m\n",
      "\u001b[2m│\u001b[0m               \u001b[1m📦\u001b[0m\u001b[1m \u001b[0m\u001b[36mTransport:      \u001b[0m\u001b[36m \u001b[0m\u001b[2mStreamable-HTTP          \u001b[0m                \u001b[2m│\u001b[0m\n",
      "\u001b[2m│\u001b[0m               \u001b[1m🔗\u001b[0m\u001b[1m \u001b[0m\u001b[36mServer URL:     \u001b[0m\u001b[36m \u001b[0m\u001b[2mhttp://127.0.0.1:8123/mcp\u001b[0m                \u001b[2m│\u001b[0m\n",
      "\u001b[2m│\u001b[0m               \u001b[1m  \u001b[0m\u001b[1m \u001b[0m\u001b[36m                \u001b[0m\u001b[36m \u001b[0m\u001b[2m                         \u001b[0m                \u001b[2m│\u001b[0m\n",
      "\u001b[2m│\u001b[0m               \u001b[1m🏎️ \u001b[0m\u001b[1m \u001b[0m\u001b[36mFastMCP version:\u001b[0m\u001b[36m \u001b[0m\u001b[2;37m2.12.1                   \u001b[0m                \u001b[2m│\u001b[0m\n",
      "\u001b[2m│\u001b[0m               \u001b[1m🤝\u001b[0m\u001b[1m \u001b[0m\u001b[36mMCP SDK version:\u001b[0m\u001b[36m \u001b[0m\u001b[2;37m1.13.1                   \u001b[0m                \u001b[2m│\u001b[0m\n",
      "\u001b[2m│\u001b[0m               \u001b[1m  \u001b[0m\u001b[1m \u001b[0m\u001b[36m                \u001b[0m\u001b[36m \u001b[0m\u001b[2m                         \u001b[0m                \u001b[2m│\u001b[0m\n",
      "\u001b[2m│\u001b[0m               \u001b[1m📚\u001b[0m\u001b[1m \u001b[0m\u001b[36mDocs:           \u001b[0m\u001b[36m \u001b[0m\u001b[2mhttps://gofastmcp.com    \u001b[0m                \u001b[2m│\u001b[0m\n",
      "\u001b[2m│\u001b[0m               \u001b[1m🚀\u001b[0m\u001b[1m \u001b[0m\u001b[36mDeploy:         \u001b[0m\u001b[36m \u001b[0m\u001b[2mhttps://fastmcp.cloud    \u001b[0m                \u001b[2m│\u001b[0m\n",
      "\u001b[2m│\u001b[0m                                                                            \u001b[2m│\u001b[0m\n",
      "\u001b[2m╰────────────────────────────────────────────────────────────────────────────╯\u001b[0m\n",
      "\n",
      "\n",
      "2025-09-05 15:56:58,088 ¦ py.warnings ¦ WARNING ¦ warnings ¦ _showwarnmsg ¦ 112 ¦ /Users/caijiaqi/GitHub/instrMCP/venv/lib/python3.12/site-packages/websockets/legacy/__init__.py:6: DeprecationWarning: websockets.legacy is deprecated; see https://websockets.readthedocs.io/en/stable/howto/upgrade.html for upgrade instructions\n",
      "  warnings.warn(  # deprecated in 14.0 - 2024-11-09\n",
      "\n",
      "2025-09-05 15:56:58,095 ¦ py.warnings ¦ WARNING ¦ warnings ¦ _showwarnmsg ¦ 112 ¦ /Users/caijiaqi/GitHub/instrMCP/venv/lib/python3.12/site-packages/uvicorn/protocols/websockets/websockets_impl.py:17: DeprecationWarning: websockets.server.WebSocketServerProtocol is deprecated\n",
      "  from websockets.server import WebSocketServerProtocol\n",
      "\n",
      "INFO:     Started server process [4074]\n",
      "INFO:     Waiting for application startup.\n",
      "INFO:     Application startup complete.\n",
      "INFO:     Uvicorn running on http://127.0.0.1:8123 (Press CTRL+C to quit)\n"
     ]
    },
    {
     "name": "stdout",
     "output_type": "stream",
     "text": [
      "INFO:     127.0.0.1:60513 - \"POST /mcp HTTP/1.1\" 200 OK\n",
      "INFO:     127.0.0.1:60513 - \"POST /mcp HTTP/1.1\" 202 Accepted\n",
      "INFO:     127.0.0.1:60513 - \"POST /mcp HTTP/1.1\" 200 OK\n",
      "INFO:     127.0.0.1:60537 - \"POST /mcp HTTP/1.1\" 200 OK\n",
      "INFO:     127.0.0.1:60537 - \"POST /mcp HTTP/1.1\" 202 Accepted\n",
      "INFO:     127.0.0.1:60538 - \"POST /mcp HTTP/1.1\" 200 OK\n",
      "INFO:     127.0.0.1:60537 - \"POST /mcp HTTP/1.1\" 200 OK\n",
      "INFO:     127.0.0.1:60538 - \"POST /mcp HTTP/1.1\" 202 Accepted\n",
      "INFO:     127.0.0.1:60538 - \"POST /mcp HTTP/1.1\" 200 OK\n",
      "INFO:     127.0.0.1:60548 - \"POST /mcp HTTP/1.1\" 400 Bad Request\n",
      "INFO:     127.0.0.1:60548 - \"POST /mcp HTTP/1.1\" 200 OK\n",
      "INFO:     127.0.0.1:60548 - \"POST /mcp HTTP/1.1\" 202 Accepted\n",
      "INFO:     127.0.0.1:60548 - \"POST /mcp HTTP/1.1\" 200 OK\n",
      "INFO:     127.0.0.1:60568 - \"POST /mcp HTTP/1.1\" 200 OK\n"
     ]
    },
    {
     "name": "stderr",
     "output_type": "stream",
     "text": [
      "2025-09-05 15:57:52,843 ¦ servers.jupyter_qcodes.mcp_server ¦ ERROR ¦ mcp_server ¦ get_parameter_values ¦ 103 ¦ Error in get_parameter_values: Expecting value: line 1 column 1 (char 0)\n"
     ]
    },
    {
     "name": "stdout",
     "output_type": "stream",
     "text": [
      "INFO:     127.0.0.1:60585 - \"POST /mcp HTTP/1.1\" 200 OK\n",
      "INFO:     127.0.0.1:60585 - \"POST /mcp HTTP/1.1\" 200 OK\n",
      "INFO:     127.0.0.1:60585 - \"POST /mcp HTTP/1.1\" 200 OK\n",
      "INFO:     127.0.0.1:60585 - \"POST /mcp HTTP/1.1\" 200 OK\n",
      "INFO:     127.0.0.1:60664 - \"POST /mcp HTTP/1.1\" 200 OK\n",
      "INFO:     127.0.0.1:60676 - \"POST /mcp HTTP/1.1\" 200 OK\n",
      "INFO:     127.0.0.1:60721 - \"POST /mcp HTTP/1.1\" 200 OK\n",
      "INFO:     127.0.0.1:60767 - \"POST /mcp HTTP/1.1\" 200 OK\n",
      "INFO:     127.0.0.1:60931 - \"POST /mcp HTTP/1.1\" 200 OK\n",
      "INFO:     127.0.0.1:60931 - \"POST /mcp HTTP/1.1\" 200 OK\n",
      "INFO:     127.0.0.1:60971 - \"POST /mcp HTTP/1.1\" 200 OK\n",
      "INFO:     127.0.0.1:61071 - \"POST /mcp HTTP/1.1\" 200 OK\n",
      "INFO:     127.0.0.1:62595 - \"POST /mcp HTTP/1.1\" 200 OK\n",
      "INFO:     127.0.0.1:62595 - \"POST /mcp HTTP/1.1\" 200 OK\n",
      "INFO:     127.0.0.1:62595 - \"POST /mcp HTTP/1.1\" 200 OK\n",
      "INFO:     127.0.0.1:62595 - \"POST /mcp HTTP/1.1\" 200 OK\n",
      "INFO:     127.0.0.1:62595 - \"POST /mcp HTTP/1.1\" 200 OK\n",
      "INFO:     127.0.0.1:62595 - \"POST /mcp HTTP/1.1\" 200 OK\n",
      "INFO:     127.0.0.1:62663 - \"POST /mcp HTTP/1.1\" 200 OK\n"
     ]
    }
   ],
   "source": [
    "%load_ext servers.jupyter_qcodes.jupyter_mcp_extension"
   ]
  },
  {
   "cell_type": "code",
   "execution_count": null,
   "id": "c4dd8645-506c-4560-a850-b4f864da1620",
   "metadata": {},
   "outputs": [],
   "source": [
    "\n"
   ]
  }
 ],
 "metadata": {
  "kernelspec": {
   "display_name": "Python 3 (ipykernel)",
   "language": "python",
   "name": "python3"
  },
  "language_info": {
   "codemirror_mode": {
    "name": "ipython",
    "version": 3
   },
   "file_extension": ".py",
   "mimetype": "text/x-python",
   "name": "python",
   "nbconvert_exporter": "python",
   "pygments_lexer": "ipython3",
   "version": "3.12.11"
  }
 },
 "nbformat": 4,
 "nbformat_minor": 5
}
