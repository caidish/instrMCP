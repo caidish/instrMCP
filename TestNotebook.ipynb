{
 "cells": [
  {
   "cell_type": "code",
   "execution_count": 1,
   "id": "d184e5f4-507d-4947-b795-a75a3ae18c25",
   "metadata": {
    "scrolled": true
   },
   "outputs": [
    {
     "name": "stdout",
     "output_type": "stream",
     "text": [
      "Logging hadn't been started.\n",
      "Activating auto-logging. Current session state plus future input saved.\n",
      "Filename       : /Users/caijiaqi/.qcodes/logs/command_history.log\n",
      "Mode           : append\n",
      "Output logging : True\n",
      "Raw input log  : False\n",
      "Timestamping   : True\n",
      "State          : active\n",
      "Qcodes Logfile : /Users/caijiaqi/.qcodes/logs/251013-64075-qcodes.log\n"
     ]
    }
   ],
   "source": [
    "import qcodes as qc\n",
    "station = qc.Station(config_file='config/station.yaml')"
   ]
  },
  {
   "cell_type": "code",
   "execution_count": 2,
   "id": "8a44d3e9-223c-46bc-8ec2-e52475dc87a3",
   "metadata": {
    "scrolled": true
   },
   "outputs": [],
   "source": [
    "dac1 = station.load_mock_dac1()\n",
    "dac2 = station.load_mock_dac2()"
   ]
  },
  {
   "cell_type": "code",
   "execution_count": 3,
   "id": "5d9183db-f92d-4b8e-9b86-053b66f8fde1",
   "metadata": {},
   "outputs": [
    {
     "name": "stdout",
     "output_type": "stream",
     "text": [
      "✅ QCoDeS MCP extension loaded\n",
      "🛡️  Default mode: safe\n",
      "📋 Use %mcp_status to check server status\n",
      "⚠️  Use %mcp_unsafe to switch to unsafe mode (if needed)\n",
      "🚀 Use %mcp_start to start the server\n"
     ]
    }
   ],
   "source": [
    "%load_ext instrmcp.extensions"
   ]
  },
  {
   "cell_type": "code",
   "execution_count": 4,
   "id": "c4dd8645-506c-4560-a850-b4f864da1620",
   "metadata": {
    "scrolled": true
   },
   "outputs": [
    {
     "name": "stdout",
     "output_type": "stream",
     "text": [
      "🛡️ MCP Server Status:\n",
      "   Desired Mode: safe\n",
      "   Server Instance: ❌ Not created yet\n",
      "   Available: %mcp_start\n"
     ]
    }
   ],
   "source": [
    "%mcp_status"
   ]
  },
  {
   "cell_type": "code",
   "execution_count": 5,
   "id": "6a069a25-0b50-4280-b7f4-7fedcfe9b4f1",
   "metadata": {},
   "outputs": [
    {
     "name": "stdout",
     "output_type": "stream",
     "text": [
      "✅ Added: measureit\n",
      "✅ Added: database\n",
      "✅ Added: auto_correct_json\n",
      "✅ Changes will take effect when server starts\n"
     ]
    }
   ],
   "source": [
    "%mcp_option add measureit database auto_correct_json"
   ]
  },
  {
   "cell_type": "code",
   "execution_count": 6,
   "id": "c5d5e22e-f7a0-481e-aa3d-617c10a43cdd",
   "metadata": {},
   "outputs": [
    {
     "name": "stdout",
     "output_type": "stream",
     "text": [
      "⚠️  Mode set to unsafe\n",
      "⚠️  UNSAFE MODE: execute_editing_cell tool will be available\n",
      "✅ Mode will take effect when server starts\n"
     ]
    }
   ],
   "source": [
    "%mcp_unsafe"
   ]
  },
  {
   "cell_type": "code",
   "execution_count": 7,
   "id": "95dde381-dd66-4475-9a7a-aaeb9f1aa7b4",
   "metadata": {
    "scrolled": true
   },
   "outputs": [
    {
     "name": "stdout",
     "output_type": "stream",
     "text": [
      "🚀 Starting MCP server...\n",
      "🚀 QCoDeS MCP Server running on http://127.0.0.1:8123\n",
      "🔑 Access token: PLa11efZUqpIWwifVF3-SU0JIU4iR3rUo1TD9EdAdEM\n"
     ]
    },
    {
     "name": "stderr",
     "output_type": "stream",
     "text": [
      "2025-10-13 18:41:51,953 ¦ py.warnings ¦ WARNING ¦ warnings ¦ _showwarnmsg ¦ 110 ¦ /Users/caijiaqi/miniforge3/envs/instrMCPdev/lib/python3.11/site-packages/websockets/legacy/__init__.py:6: DeprecationWarning: websockets.legacy is deprecated; see https://websockets.readthedocs.io/en/stable/howto/upgrade.html for upgrade instructions\n",
      "  warnings.warn(  # deprecated in 14.0 - 2024-11-09\n",
      "\n",
      "2025-10-13 18:41:51,958 ¦ py.warnings ¦ WARNING ¦ warnings ¦ _showwarnmsg ¦ 110 ¦ /Users/caijiaqi/miniforge3/envs/instrMCPdev/lib/python3.11/site-packages/uvicorn/protocols/websockets/websockets_impl.py:17: DeprecationWarning: websockets.server.WebSocketServerProtocol is deprecated\n",
      "  from websockets.server import WebSocketServerProtocol\n",
      "\n",
      "INFO:     Started server process [64075]\n",
      "INFO:     Waiting for application startup.\n",
      "INFO:     Application startup complete.\n",
      "INFO:     Uvicorn running on http://127.0.0.1:8123 (Press CTRL+C to quit)\n"
     ]
    },
    {
     "name": "stdout",
     "output_type": "stream",
     "text": [
      "✅ MCP server started in ⚠️ unsafe mode\n",
      "⚠️  UNSAFE MODE: execute_editing_cell tool is available\n",
      "INFO:     127.0.0.1:58790 - \"DELETE /mcp HTTP/1.1\" 400 Bad Request\n",
      "INFO:     127.0.0.1:58792 - \"POST /mcp HTTP/1.1\" 200 OK\n",
      "INFO:     127.0.0.1:58792 - \"POST /mcp HTTP/1.1\" 202 Accepted\n",
      "INFO:     127.0.0.1:58792 - \"GET /mcp HTTP/1.1\" 200 OK\n",
      "INFO:     127.0.0.1:58847 - \"POST /mcp HTTP/1.1\" 200 OK\n",
      "INFO:     127.0.0.1:58885 - \"POST /mcp HTTP/1.1\" 200 OK\n"
     ]
    }
   ],
   "source": [
    "%mcp_start"
   ]
  },
  {
   "cell_type": "code",
   "execution_count": 10,
   "id": "eda0dce7-0e9f-4da5-9c4f-6d4a307f03eb",
   "metadata": {},
   "outputs": [
    {
     "name": "stdout",
     "output_type": "stream",
     "text": [
      "100\n"
     ]
    }
   ],
   "source": [
    "import numpy as np\n",
    "test_array = np.array([1, 2, 3, 4,])\n",
    "multiplier_2 = 100\n",
    "print(100)"
   ]
  },
  {
   "cell_type": "code",
   "execution_count": 9,
   "id": "971177b9-e8bb-4c7c-a096-2362897f3043",
   "metadata": {
    "scrolled": true
   },
   "outputs": [
    {
     "data": {
      "text/plain": [
       "2"
      ]
     },
     "execution_count": 9,
     "metadata": {},
     "output_type": "execute_result"
    }
   ],
   "source": [
    "1+1"
   ]
  },
  {
   "cell_type": "code",
   "execution_count": 13,
   "id": "a9d893f2-8dc2-4507-bc80-d53c3be2c804",
   "metadata": {},
   "outputs": [
    {
     "name": "stdout",
     "output_type": "stream",
     "text": [
      "Error checking VISA resources: Could not locate a VISA implementation. Install either the IVI binary or pyvisa-py.\n",
      "\n",
      "Available QCoDeS Instruments:\n",
      "  - mock_dac1: MockDAC\n",
      "  - mock_dac2: MockDAC\n"
     ]
    }
   ],
   "source": [
    "# Check VISA resources\n",
    "try:\n",
    "    import pyvisa\n",
    "    rm = pyvisa.ResourceManager()\n",
    "    resources = rm.list_resources()\n",
    "    print(\"Available VISA Resources:\")\n",
    "    for res in resources:\n",
    "        print(f\"  - {res}\")\n",
    "except Exception as e:\n",
    "    print(f\"Error checking VISA resources: {e}\")\n",
    "\n",
    "# Check QCoDeS instruments\n",
    "try:\n",
    "    import qcodes as qc\n",
    "    instruments = qc.Instrument._all_instruments\n",
    "    print(\"\\nAvailable QCoDeS Instruments:\")\n",
    "    if instruments:\n",
    "        for name, inst in instruments.items():\n",
    "            print(f\"  - {name}: {type(inst).__name__}\")\n",
    "    else:\n",
    "        print(\"  No instruments currently instantiated\")\n",
    "except Exception as e:\n",
    "    print(f\"Error checking QCoDeS instruments: {e}\")"
   ]
  },
  {
   "cell_type": "code",
   "execution_count": 11,
   "id": "de1a15df-fa09-444d-9f23-865c6c18c15f",
   "metadata": {},
   "outputs": [
    {
     "name": "stdout",
     "output_type": "stream",
     "text": [
      "Error checking VISA resources: Could not locate a VISA implementation. Install either the IVI binary or pyvisa-py.\n",
      "\n",
      "Available QCoDeS Instruments:\n",
      "  - mock_dac1: MockDAC\n",
      "  - mock_dac2: MockDAC\n"
     ]
    }
   ],
   "source": [
    "# Check VISA resources\n",
    "try:\n",
    "    import pyvisa\n",
    "    rm = pyvisa.ResourceManager()\n",
    "    resources = rm.list_resources()\n",
    "    print(\"Available VISA Resources:\")\n",
    "    for res in resources:\n",
    "        print(f\"  - {res}\")\n",
    "except Exception as e:\n",
    "    print(f\"Error checking VISA resources: {e}\")\n",
    "\n",
    "# Check QCoDeS instruments\n",
    "try:\n",
    "    import qcodes as qc\n",
    "    instruments = qc.Instrument._all_instruments\n",
    "    print(\"\\nAvailable QCoDeS Instruments:\")\n",
    "    if instruments:\n",
    "        for name, inst in instruments.items():\n",
    "            print(f\"  - {name}: {type(inst).__name__}\")\n",
    "    else:\n",
    "        print(\"  No instruments currently instantiated\")\n",
    "except Exception as e:\n",
    "    print(f\"Error checking QCoDeS instruments: {e}\")"
   ]
  },
  {
   "cell_type": "code",
   "execution_count": null,
   "id": "3f915160-dc53-408d-a008-d02f3b0c878c",
   "metadata": {},
   "outputs": [],
   "source": [
    "111"
   ]
  },
  {
   "cell_type": "code",
   "execution_count": null,
   "id": "9eda301b-2e60-4a87-8042-9d82a89b2cc5",
   "metadata": {},
   "outputs": [],
   "source": []
  },
  {
   "cell_type": "code",
   "execution_count": null,
   "id": "e1dc30ce-95ca-4191-a6ba-37ad51819895",
   "metadata": {},
   "outputs": [],
   "source": []
  }
 ],
 "metadata": {
  "kernelspec": {
   "display_name": "Python 3 (ipykernel)",
   "language": "python",
   "name": "python3"
  },
  "language_info": {
   "codemirror_mode": {
    "name": "ipython",
    "version": 3
   },
   "file_extension": ".py",
   "mimetype": "text/x-python",
   "name": "python",
   "nbconvert_exporter": "python",
   "pygments_lexer": "ipython3",
   "version": "3.11.13"
  }
 },
 "nbformat": 4,
 "nbformat_minor": 5
}
